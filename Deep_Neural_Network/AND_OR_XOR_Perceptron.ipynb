{
 "cells": [
  {
   "cell_type": "raw",
   "id": "87fb9a06-275d-4a03-b7d8-f431c8bea980",
   "metadata": {},
   "source": [
    "\"\"\"\n",
    "* FILENAME : AND_OR_XOR_Perceptron.ipynb\n",
    "*\n",
    "* DESCRIPTION : Implement AND, OR, and XOR gate using perceptron\n",
    "*\n",
    "* AUTHOR : Kyochul Jang\n",
    "* EMAIL: jang128@purdue.edu\n",
    "* START DATE : 18 July 2022\n",
    "\"\"\""
   ]
  },
  {
   "cell_type": "markdown",
   "id": "d7761bb7-cf55-4464-a460-8b3bcfc086fa",
   "metadata": {},
   "source": [
    "# Import Libraries"
   ]
  },
  {
   "cell_type": "code",
   "execution_count": 1,
   "id": "b36dabb7-4a8d-4981-9229-f400dd4ec640",
   "metadata": {},
   "outputs": [],
   "source": [
    "import numpy as np\n",
    "import matplotlib.pyplot as plt\n",
    "import tensorflow as tf\n",
    "import pandas as pd"
   ]
  },
  {
   "cell_type": "markdown",
   "id": "9d5e550c-4616-4165-9616-6b4a80e663f9",
   "metadata": {},
   "source": [
    "# Create Dataset for AND and OR truth table"
   ]
  },
  {
   "cell_type": "code",
   "execution_count": 2,
   "id": "2377c76a-03bf-485a-b7d0-c3f48d98a731",
   "metadata": {},
   "outputs": [
    {
     "name": "stdout",
     "output_type": "stream",
     "text": [
      "  AND Truth Table\n",
      "    x1   x2    y\n",
      "0  1.0  1.0  1.0\n",
      "1  1.0  0.0  0.0\n",
      "2  0.0  1.0  0.0\n",
      "3  0.0  0.0  0.0\n",
      "\n",
      "  OR Truth Table\n",
      "    x1   x2    y\n",
      "0  1.0  1.0  1.0\n",
      "1  1.0  0.0  1.0\n",
      "2  0.0  1.0  1.0\n",
      "3  0.0  0.0  0.0\n",
      "\n",
      "  XOR Truth Table\n",
      "    x1   x2    y\n",
      "0  0.0  0.0  0.0\n",
      "1  0.0  1.0  1.0\n",
      "2  1.0  0.0  1.0\n",
      "3  1.0  1.0  0.0\n"
     ]
    }
   ],
   "source": [
    "AND_data = {'x1': [1., 1., 0., 0.], \n",
    "        'x2': [1., 0., 1., 0.], \n",
    "        'y':[1., 0., 0., 0.]}\n",
    "AND = pd.DataFrame(AND_data)\n",
    "print(f'  AND Truth Table\\n{AND}')\n",
    "print()\n",
    "\n",
    "OR_data = {'x1': [1., 1., 0., 0.], \n",
    "        'x2': [1., 0., 1., 0.], \n",
    "        'y':[1., 1., 1., 0.]}\n",
    "OR = pd.DataFrame(OR_data)\n",
    "print(f'  OR Truth Table\\n{OR}')\n",
    "print()\n",
    "\n",
    "XOR_data = {'x1': [0., 0., 1., 1.], \n",
    "        'x2': [0., 1., 0., 1.], \n",
    "        'y':[0., 1., 1., 0.]}\n",
    "XOR = pd.DataFrame(XOR_data)\n",
    "print(f'  XOR Truth Table\\n{XOR}')"
   ]
  },
  {
   "cell_type": "markdown",
   "id": "1d0f2546-b401-4752-b36e-9773058952aa",
   "metadata": {},
   "source": [
    "# Initialize Hyperparameter"
   ]
  },
  {
   "cell_type": "code",
   "execution_count": 3,
   "id": "79067b6a-d592-45af-bda8-ea0f51de9e8f",
   "metadata": {},
   "outputs": [],
   "source": [
    "learning_rate = 0.1\n",
    "AND_W = np.full((2,1), 0.0)\n",
    "AND_X = AND[['x1', 'x2']].to_numpy()\n",
    "AND_Y = AND[['y']].to_numpy()\n",
    "AND_b = 0\n",
    "\n",
    "OR_W = np.full((2,1), 0.0)\n",
    "OR_X = OR[['x1', 'x2']].to_numpy()\n",
    "OR_Y = OR[['y']].to_numpy()\n",
    "OR_b = 0\n",
    "\n",
    "XOR_W = np.full((2,1), 0.0)\n",
    "XOR_X = XOR[['x1', 'x2']].to_numpy()\n",
    "XOR_Y = XOR[['y']].to_numpy()\n",
    "XOR_b = 0"
   ]
  },
  {
   "cell_type": "markdown",
   "id": "21de8156-b39c-4a1a-a948-a0100c4b4119",
   "metadata": {},
   "source": [
    "# Define Function"
   ]
  },
  {
   "cell_type": "markdown",
   "id": "351baf7b-161b-422f-b63b-e25cb058b4cf",
   "metadata": {},
   "source": [
    "## $$\\hat{Y} = WX + b$$"
   ]
  },
  {
   "cell_type": "code",
   "execution_count": 4,
   "id": "bfe27ff3-b4aa-46fc-9e28-9aaaaf1f5da8",
   "metadata": {},
   "outputs": [],
   "source": [
    "def hypothesis(X, W, b):\n",
    "    return np.dot(X, W) + b   "
   ]
  },
  {
   "cell_type": "code",
   "execution_count": 5,
   "id": "5c40a936-0847-43c6-9d9c-3c3e0db578af",
   "metadata": {},
   "outputs": [],
   "source": [
    "def loss_func(X, W, b, Y):\n",
    "    return np.mean(np.square(Y - hypothesis(X, W, b))/2)"
   ]
  },
  {
   "cell_type": "code",
   "execution_count": 6,
   "id": "a9fd5b2e-1fcd-4adf-9cc5-2c0a32b395b1",
   "metadata": {},
   "outputs": [],
   "source": [
    "def gradient_descent(X, W, b, Y):\n",
    "    dW = learning_rate*np.dot(X.T, ((hypothesis(X, W, b) - Y)))\n",
    "    db = learning_rate*np.mean((hypothesis(X, W, b) - Y))\n",
    "    return dW, db"
   ]
  },
  {
   "cell_type": "code",
   "execution_count": 7,
   "id": "b320108b-4a0a-432c-812d-d00f327d6959",
   "metadata": {},
   "outputs": [],
   "source": [
    "def training(X, W, b, Y):\n",
    "    trials = []\n",
    "    for i in range(2000):\n",
    "        loss = loss_func(X, W, b, Y)\n",
    "        if i % 500 == 0:\n",
    "            print(f'$ {i}th i loss: {loss} || w1: {W[0]} || w2: {W[1]}')\n",
    "            \n",
    "        \n",
    "        dW, db = gradient_descent(X, W, b, Y)\n",
    "        W -= dW\n",
    "        b -= db\n",
    "        trials.append(hypothesis(X, W, b)[0])\n",
    "    return W, b, trials"
   ]
  },
  {
   "cell_type": "code",
   "execution_count": 8,
   "id": "eef20abd-b758-4907-94a1-b1f681243e96",
   "metadata": {},
   "outputs": [],
   "source": [
    "def activation_func(result, logic):\n",
    "    temp = result.copy()\n",
    "    for idx, value in enumerate(temp):\n",
    "        if value > 0.5:\n",
    "            temp[idx] = 1\n",
    "        else:\n",
    "            temp[idx] = 0\n",
    "            \n",
    "    print(f'{logic}_Perceptron\\n: {temp}')"
   ]
  },
  {
   "cell_type": "code",
   "execution_count": 9,
   "id": "06ec8a85-ab91-412a-8adc-1b0032ff020b",
   "metadata": {},
   "outputs": [],
   "source": [
    "def validate(X, W, b, Y, logic):\n",
    "    dW, db, trials = training(X, W, b, Y)\n",
    "    result = hypothesis(X, dW, db)\n",
    "    print(f'{logic}\\n: {result}')\n",
    "    plt.plot(trials)\n",
    "    return result"
   ]
  },
  {
   "cell_type": "markdown",
   "id": "443221f8-95e2-4819-941a-3f8e06328e56",
   "metadata": {},
   "source": [
    "# Execute_AND"
   ]
  },
  {
   "cell_type": "code",
   "execution_count": 10,
   "id": "f255a6c3-f8bd-4858-941b-9fd009911ea9",
   "metadata": {},
   "outputs": [
    {
     "name": "stdout",
     "output_type": "stream",
     "text": [
      "$ 0th i loss: 0.125 || w1: [0.] || w2: [0.]\n",
      "$ 500th i loss: 0.03125000000003172 || w1: [0.49999968] || w2: [0.49999968]\n",
      "$ 1000th i loss: 0.03125 || w1: [0.5] || w2: [0.5]\n",
      "$ 1500th i loss: 0.031249999999999993 || w1: [0.5] || w2: [0.5]\n",
      "AND\n",
      ": [[ 0.75]\n",
      " [ 0.25]\n",
      " [ 0.25]\n",
      " [-0.25]]\n",
      "\n",
      "AND_Perceptron\n",
      ": [[1.]\n",
      " [0.]\n",
      " [0.]\n",
      " [0.]]\n",
      "\n"
     ]
    },
    {
     "data": {
      "image/png": "[encoded data removed]",
      "text/plain": [
       "<Figure size 432x288 with 1 Axes>"
      ]
     },
     "metadata": {
      "needs_background": "light"
     },
     "output_type": "display_data"
    }
   ],
   "source": [
    "AND_result = validate(AND_X, AND_W, AND_b, AND_Y, 'AND')\n",
    "print()\n",
    "activation_func(AND_result, 'AND')\n",
    "print()"
   ]
  },
  {
   "cell_type": "markdown",
   "id": "73015900-c341-41cd-ac64-4151dd176c81",
   "metadata": {},
   "source": [
    "# Execute OR"
   ]
  },
  {
   "cell_type": "code",
   "execution_count": 11,
   "id": "09503526-4b2d-41fe-8970-6c149d8813a4",
   "metadata": {},
   "outputs": [
    {
     "name": "stdout",
     "output_type": "stream",
     "text": [
      "$ 0th i loss: 0.375 || w1: [0.] || w2: [0.]\n",
      "$ 500th i loss: 0.03125000000000075 || w1: [0.50000005] || w2: [0.50000005]\n",
      "$ 1000th i loss: 0.03125 || w1: [0.5] || w2: [0.5]\n",
      "$ 1500th i loss: 0.031249999999999993 || w1: [0.5] || w2: [0.5]\n",
      "OR\n",
      ": [[1.25]\n",
      " [0.75]\n",
      " [0.75]\n",
      " [0.25]]\n",
      "\n",
      "OR_Perceptron\n",
      ": [[1.]\n",
      " [1.]\n",
      " [1.]\n",
      " [0.]]\n",
      "\n"
     ]
    },
    {
     "data": {
      "image/png": "[encoded data removed]",
      "text/plain": [
       "<Figure size 432x288 with 1 Axes>"
      ]
     },
     "metadata": {
      "needs_background": "light"
     },
     "output_type": "display_data"
    }
   ],
   "source": [
    "OR_result = validate(OR_X, OR_W, OR_b, OR_Y, 'OR')\n",
    "print()\n",
    "activation_func(OR_result, 'OR')\n",
    "print()"
   ]
  },
  {
   "cell_type": "markdown",
   "id": "e7af9ad3-d163-45b9-bc42-54cc90ead1a2",
   "metadata": {},
   "source": [
    "# Execute XOR"
   ]
  },
  {
   "cell_type": "markdown",
   "id": "00382c35-dd5f-4362-87dc-81cba9995bba",
   "metadata": {},
   "source": [
    "## Linear Regression"
   ]
  },
  {
   "cell_type": "code",
   "execution_count": 12,
   "id": "13732e2b-785b-4ab6-be13-f27d343561e4",
   "metadata": {},
   "outputs": [
    {
     "name": "stdout",
     "output_type": "stream",
     "text": [
      "$ 0th i loss: 0.25 || w1: [0.] || w2: [0.]\n",
      "$ 500th i loss: 0.1250000000000423 || w1: [3.65252467e-07] || w2: [3.65252467e-07]\n",
      "$ 1000th i loss: 0.125 || w1: [4.62077906e-13] || w2: [4.62077906e-13]\n",
      "$ 1500th i loss: 0.12499999999999999 || w1: [5.24888302e-16] || w2: [5.24888302e-16]\n",
      "XOR\n",
      ": [[0.5]\n",
      " [0.5]\n",
      " [0.5]\n",
      " [0.5]]\n",
      "\n",
      "XOR_Perceptron\n",
      ": [[0.]\n",
      " [0.]\n",
      " [0.]\n",
      " [1.]]\n",
      "\n"
     ]
    },
    {
     "data": {
      "image/png": "[encoded data removed]",
      "text/plain": [
       "<Figure size 432x288 with 1 Axes>"
      ]
     },
     "metadata": {
      "needs_background": "light"
     },
     "output_type": "display_data"
    }
   ],
   "source": [
    "XOR_result = validate(XOR_X, XOR_W, XOR_b, XOR_Y, 'XOR')\n",
    "print()\n",
    "activation_func(XOR_result, 'XOR')\n",
    "print()"
   ]
  },
  {
   "cell_type": "markdown",
   "id": "591f830c-e0ed-422a-8fc5-cf3816f86c55",
   "metadata": {},
   "source": [
    "# Circuit Aspect"
   ]
  },
  {
   "cell_type": "markdown",
   "id": "84893c50-ec97-4d19-a659-13e23048da3b",
   "metadata": {},
   "source": [
    "<img src='https://camo.githubusercontent.com/a09eff0c121bf74961678f66891765aed56c4f719b23d69bd7cb9b8696280399/687474703a2f2f692e696d6775722e636f6d2f32756d5a492e706e67' />"
   ]
  },
  {
   "cell_type": "code",
   "execution_count": 13,
   "id": "b373cea5-7ca4-4db1-a016-1814e8bd5c60",
   "metadata": {},
   "outputs": [
    {
     "name": "stdout",
     "output_type": "stream",
     "text": [
      "XOR_alt_Perceptron\n",
      ": [[0.]\n",
      " [1.]\n",
      " [1.]\n",
      " [0.]]\n"
     ]
    }
   ],
   "source": [
    "activation_func((1 - AND_result) * OR_result, 'XOR_alt')"
   ]
  },
  {
   "cell_type": "code",
   "execution_count": null,
   "id": "d0c9d178-43b5-40bc-842c-432a61328841",
   "metadata": {},
   "outputs": [],
   "source": []
  },
  {
   "cell_type": "code",
   "execution_count": null,
   "id": "fdee8b2f-c6d5-477b-b418-29582305a368",
   "metadata": {},
   "outputs": [],
   "source": []
  }
 ],
 "metadata": {
  "kernelspec": {
   "display_name": "Python 3",
   "language": "python",
   "name": "python3"
  },
  "language_info": {
   "codemirror_mode": {
    "name": "ipython",
    "version": 3
   },
   "file_extension": ".py",
   "mimetype": "text/x-python",
   "name": "python",
   "nbconvert_exporter": "python",
   "pygments_lexer": "ipython3",
   "version": "3.6.13"
  }
 },
 "nbformat": 4,
 "nbformat_minor": 5
}
