{
 "cells": [
  {
   "cell_type": "raw",
   "id": "3f135aed-164f-46a8-9214-f60dcf9fd3a9",
   "metadata": {},
   "source": [
    "\"\"\"\n",
    "* FILENAME : XOR_MLP.ipynb\n",
    "*\n",
    "* DESCRIPTION : Implement XOR gates using MLP\n",
    "*\n",
    "* AUTHOR : Kyochul Jang\n",
    "* EMAIL: jang128@purdue.edu\n",
    "* START DATE : 20 July 2022\n",
    "\"\"\""
   ]
  },
  {
   "cell_type": "markdown",
   "id": "dddf4328-11eb-4263-aec6-f2b42c659e1c",
   "metadata": {},
   "source": [
    "# Import Libraries"
   ]
  },
  {
   "cell_type": "code",
   "execution_count": 84,
   "id": "e604139f-c022-4c07-a246-5d581715b1b8",
   "metadata": {},
   "outputs": [],
   "source": [
    "import numpy as np\n",
    "from tensorflow import keras\n",
    "from keras.layers import Dense\n",
    "import matplotlib.pyplot as plt\n",
    "import pandas as pd\n",
    "import matplotlib.pyplot as plt\n",
    "import time\n",
    "\n",
    "from keras.callbacks import Callback"
   ]
  },
  {
   "cell_type": "markdown",
   "id": "bf89ddbd-8d91-42f9-9118-56562098eea8",
   "metadata": {},
   "source": [
    "# Initialize Datasets"
   ]
  },
  {
   "cell_type": "code",
   "execution_count": 40,
   "id": "eb927736-1c29-4680-80f4-90a760bbcf55",
   "metadata": {},
   "outputs": [],
   "source": [
    "x_train = np.array([\n",
    "    [0, 0],\n",
    "    [0, 1],\n",
    "    [1, 0],\n",
    "    [1, 1]\n",
    "])\n",
    "\n",
    "y_train = np.array([    \n",
    "    [0],\n",
    "    [1],\n",
    "    [1],\n",
    "    [0]\n",
    "])\n",
    "\n",
    "x_test = np.array([\n",
    "    [0, 0],\n",
    "    [0, 1],\n",
    "    [1, 0],\n",
    "    [1, 1]\n",
    "])\n",
    "\n",
    "y_test = np.array([    \n",
    "    [0],\n",
    "    [1],\n",
    "    [1],\n",
    "    [0]\n",
    "])"
   ]
  },
  {
   "cell_type": "markdown",
   "id": "2436025e-1d2a-43b0-86a1-10cc844573f2",
   "metadata": {},
   "source": [
    "## Convert python list to numpy list"
   ]
  },
  {
   "cell_type": "markdown",
   "id": "138f5b75-9d16-4434-8eeb-cfe01fc17682",
   "metadata": {},
   "source": [
    "# Build Model - ReLU"
   ]
  },
  {
   "cell_type": "code",
   "execution_count": 41,
   "id": "39b94b3f-66ac-436e-b74c-4202fa4a3759",
   "metadata": {},
   "outputs": [
    {
     "name": "stdout",
     "output_type": "stream",
     "text": [
      "Model: \"sequential_5\"\n",
      "_________________________________________________________________\n",
      " Layer (type)                Output Shape              Param #   \n",
      "=================================================================\n",
      " dense_10 (Dense)            (None, 5)                 15        \n",
      "                                                                 \n",
      " dense_11 (Dense)            (None, 1)                 6         \n",
      "                                                                 \n",
      "=================================================================\n",
      "Total params: 21\n",
      "Trainable params: 21\n",
      "Non-trainable params: 0\n",
      "_________________________________________________________________\n"
     ]
    }
   ],
   "source": [
    "model_relu = keras.Sequential()\n",
    "\n",
    "# Add first layer\n",
    "model_relu.add(Dense(5, activation='relu', input_shape=(2,)))\n",
    "\n",
    "# Add second layer\n",
    "# the number of output node is one since its binary result\n",
    "model_relu.add(Dense(1, activation='sigmoid'))\n",
    "\n",
    "# optimizer: Adam\n",
    "adam = keras.optimizers.Adam(learning_rate=0.01)\n",
    "model_relu.compile(loss='binary_crossentropy', optimizer=adam)\n",
    "\n",
    "# sumamry\n",
    "model_relu.summary()"
   ]
  },
  {
   "cell_type": "markdown",
   "id": "892ec6c2-c819-4f66-9067-02bd05b599c7",
   "metadata": {},
   "source": [
    "# Build Model - Sigmoid"
   ]
  },
  {
   "cell_type": "code",
   "execution_count": 42,
   "id": "1d481bc3-865c-4534-896c-fc791cfdfe18",
   "metadata": {},
   "outputs": [
    {
     "name": "stdout",
     "output_type": "stream",
     "text": [
      "Model: \"sequential_6\"\n",
      "_________________________________________________________________\n",
      " Layer (type)                Output Shape              Param #   \n",
      "=================================================================\n",
      " dense_12 (Dense)            (None, 5)                 15        \n",
      "                                                                 \n",
      " dense_13 (Dense)            (None, 1)                 6         \n",
      "                                                                 \n",
      "=================================================================\n",
      "Total params: 21\n",
      "Trainable params: 21\n",
      "Non-trainable params: 0\n",
      "_________________________________________________________________\n"
     ]
    }
   ],
   "source": [
    "model_sigm = keras.Sequential()\n",
    "\n",
    "# Add first layer\n",
    "model_sigm.add(Dense(5, activation='sigmoid', input_shape=(2,)))\n",
    "\n",
    "# Add second layer\n",
    "# the number of output node is one since its binary result\n",
    "model_sigm.add(Dense(1, activation='sigmoid'))\n",
    "\n",
    "# optimizer: Adam\n",
    "adam = keras.optimizers.Adam(learning_rate=0.01)\n",
    "model_sigm.compile(loss='binary_crossentropy', optimizer=adam)\n",
    "\n",
    "# sumamry\n",
    "model_sigm.summary()"
   ]
  },
  {
   "cell_type": "markdown",
   "id": "5db8fb75-7596-4cfb-8240-816fcafe4046",
   "metadata": {},
   "source": [
    "# Make Callback function for plotting"
   ]
  },
  {
   "cell_type": "code",
   "execution_count": 52,
   "id": "f213d16b-e3d0-4232-b7ba-ee754a40f09d",
   "metadata": {},
   "outputs": [],
   "source": [
    "class lossHistory(keras.callbacks.Callback):\n",
    "    def on_train_begin(self, logs={}):\n",
    "        self.loss = []\n",
    "\n",
    "    def on_epoch_end(self, batch, logs={}):\n",
    "        self.loss.append(logs.get('loss'))\n",
    "        \n",
    "loss_relu = lossHistory()"
   ]
  },
  {
   "cell_type": "markdown",
   "id": "42c3238d-d745-48f4-98fd-8b4da3c75f80",
   "metadata": {},
   "source": [
    "# Train Model"
   ]
  },
  {
   "cell_type": "code",
   "execution_count": 88,
   "id": "c433a5c1-fdbe-456a-8a9f-980c66767e65",
   "metadata": {},
   "outputs": [],
   "source": [
    "tic_r = time.time()\n",
    "model_relu.fit(x_train, y_train, batch_size=4, epochs=100, callbacks=loss_relu, verbose=0)\n",
    "toc_r = time.time()\n",
    "tic_s = time.time()\n",
    "model_sigm.fit(x_train, y_train, batch_size=4, epochs=100, callbacks=loss_sigm, verbose=0)\n",
    "toc_s = time.time()"
   ]
  },
  {
   "cell_type": "code",
   "execution_count": 89,
   "id": "e4a3af7a-072a-4e8d-bd05-5adb4d0aac83",
   "metadata": {},
   "outputs": [
    {
     "data": {
      "image/png": "[encoded data removed]",
      "text/plain": [
       "<Figure size 720x720 with 2 Axes>"
      ]
     },
     "metadata": {
      "needs_background": "light"
     },
     "output_type": "display_data"
    }
   ],
   "source": [
    "# loss_relu = np.array(loss_relu.loss, dtype=int)\n",
    "# loss_sigm = np.array(loss_sigm, dtype=int)\n",
    "\n",
    "fig, ax = plt.subplots(2,1, figsize=(10,10))\n",
    "ax[0].plot(loss_relu.loss)\n",
    "ax[0].set_title('ReLU')\n",
    "ax[1].plot(loss_sigm.loss)\n",
    "ax[1].set_title('Sigmoid')\n",
    "fig.suptitle('Comparision of relu and sigmoid functions')\n",
    "fig.supxlabel('Epoch')\n",
    "fig.supylabel('Loss')\n",
    "fig.tight_layout()"
   ]
  },
  {
   "cell_type": "code",
   "execution_count": 90,
   "id": "f28ca54f-1af9-4402-af9c-f35631614cf0",
   "metadata": {},
   "outputs": [
    {
     "name": "stdout",
     "output_type": "stream",
     "text": [
      "1/1 [==============================] - 0s 12ms/step\n",
      "1/1 [==============================] - 0s 11ms/step\n",
      "final loss of ReLU: 0.0053\n",
      "final loss of Sigmoid: 0.0385\n",
      "\n",
      "elapsed time of ReLU: 0.17103910446166992s\n",
      "elapsed time of Sigmoid: 0.13503098487854004s\n",
      "\n",
      "   ReLU\n",
      "[[0.00613688]\n",
      " [0.9951295 ]\n",
      " [0.9947708 ]\n",
      " [0.00498377]]\n",
      "\n",
      "   ReLU-round\n",
      "[[0.]\n",
      " [1.]\n",
      " [1.]\n",
      " [0.]]\n",
      "\n",
      "   Sigmoid\n",
      "[[0.01294002]\n",
      " [0.953342  ]\n",
      " [0.96706057]\n",
      " [0.05713532]]\n",
      "\n",
      "   Sigmoid-round\n",
      "[[0.]\n",
      " [1.]\n",
      " [1.]\n",
      " [0.]]\n"
     ]
    }
   ],
   "source": [
    "pred_relu = model_relu.predict(x_test)\n",
    "pred_sigm = model_sigm.predict(x_test)\n",
    "print(f'final loss of ReLU: {round(loss_relu.loss[-1], 4)}')\n",
    "print(f'final loss of Sigmoid: {round(loss_sigm.loss[-1], 4)}')\n",
    "print()\n",
    "print(f'elapsed time of ReLU: {toc_r-tic_r}s')\n",
    "print(f'elapsed time of Sigmoid: {toc_s-tic_s}s')\n",
    "print()\n",
    "print(f'   ReLU\\n{pred_relu}')\n",
    "print()\n",
    "print(f'   ReLU-round\\n{np.round(pred_relu)}')\n",
    "print()\n",
    "print(f'   Sigmoid\\n{pred_sigm}')\n",
    "print()\n",
    "print(f'   Sigmoid-round\\n{np.round(pred_sigm)}')"
   ]
  },
  {
   "cell_type": "code",
   "execution_count": null,
   "id": "f3cc891e-45af-42f5-a84c-f97bdaa92ceb",
   "metadata": {},
   "outputs": [],
   "source": []
  },
  {
   "cell_type": "code",
   "execution_count": null,
   "id": "67cb8aa8-e4fb-445f-b021-f2fb8f245582",
   "metadata": {},
   "outputs": [],
   "source": []
  }
 ],
 "metadata": {
  "kernelspec": {
   "display_name": "Python 3 (ipykernel)",
   "language": "python",
   "name": "python3"
  },
  "language_info": {
   "codemirror_mode": {
    "name": "ipython",
    "version": 3
   },
   "file_extension": ".py",
   "mimetype": "text/x-python",
   "name": "python",
   "nbconvert_exporter": "python",
   "pygments_lexer": "ipython3",
   "version": "3.10.4"
  }
 },
 "nbformat": 4,
 "nbformat_minor": 5
}
