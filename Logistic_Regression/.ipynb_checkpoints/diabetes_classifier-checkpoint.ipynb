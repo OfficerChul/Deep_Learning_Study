{
 "cells": [
  {
   "cell_type": "markdown",
   "id": "3c9c4bc2",
   "metadata": {},
   "source": [
    "# Diabetes Classifier"
   ]
  },
  {
   "cell_type": "markdown",
   "id": "9a59aada",
   "metadata": {},
   "source": [
    "## Import Libraries"
   ]
  },
  {
   "cell_type": "code",
   "execution_count": 2,
   "id": "612e0d65",
   "metadata": {},
   "outputs": [],
   "source": [
    "import csv\n",
    "import os\n",
    "import numpy as np\n",
    "from numpy import log as ln\n",
    "import pandas as pd\n",
    "import matplotlib.pyplot as plt\n",
    "import math"
   ]
  },
  {
   "cell_type": "markdown",
   "id": "a7d9b71a",
   "metadata": {},
   "source": [
    "## Load csv file"
   ]
  },
  {
   "cell_type": "code",
   "execution_count": 3,
   "id": "ecc22bcc",
   "metadata": {},
   "outputs": [
    {
     "data": {
      "text/plain": [
       "'C:\\\\Users\\\\Kyochul Jang\\\\Desktop\\\\Project\\\\Deep_Learning_Study-HBF-\\\\Logistic_Regression'"
      ]
     },
     "execution_count": 3,
     "metadata": {},
     "output_type": "execute_result"
    }
   ],
   "source": [
    "os.getcwd()"
   ]
  },
  {
   "cell_type": "code",
   "execution_count": 4,
   "id": "f0d5afb8",
   "metadata": {},
   "outputs": [],
   "source": [
    "df = pd.read_csv(f'{os.getcwd()\\\\Diabetes.csv')"
   ]
  },
  {
   "cell_type": "code",
   "execution_count": 5,
   "id": "5a0d0d14",
   "metadata": {},
   "outputs": [
    {
     "data": {
      "text/html": [
       "<div>\n",
       "<style scoped>\n",
       "    .dataframe tbody tr th:only-of-type {\n",
       "        vertical-align: middle;\n",
       "    }\n",
       "\n",
       "    .dataframe tbody tr th {\n",
       "        vertical-align: top;\n",
       "    }\n",
       "\n",
       "    .dataframe thead th {\n",
       "        text-align: right;\n",
       "    }\n",
       "</style>\n",
       "<table border=\"1\" class=\"dataframe\">\n",
       "  <thead>\n",
       "    <tr style=\"text-align: right;\">\n",
       "      <th></th>\n",
       "      <th>Var1</th>\n",
       "      <th>Var2</th>\n",
       "      <th>Var3</th>\n",
       "      <th>Var4</th>\n",
       "      <th>Var5</th>\n",
       "      <th>Var6</th>\n",
       "      <th>Var7</th>\n",
       "      <th>Var8</th>\n",
       "      <th>diabetes</th>\n",
       "    </tr>\n",
       "  </thead>\n",
       "  <tbody>\n",
       "    <tr>\n",
       "      <th>0</th>\n",
       "      <td>-0.2941</td>\n",
       "      <td>0.4874</td>\n",
       "      <td>0.1803</td>\n",
       "      <td>-0.2929</td>\n",
       "      <td>0.0000</td>\n",
       "      <td>0.0015</td>\n",
       "      <td>-0.5312</td>\n",
       "      <td>-0.0333</td>\n",
       "      <td>0.0</td>\n",
       "    </tr>\n",
       "    <tr>\n",
       "      <th>1</th>\n",
       "      <td>-0.8824</td>\n",
       "      <td>-0.1457</td>\n",
       "      <td>0.0820</td>\n",
       "      <td>-0.4141</td>\n",
       "      <td>0.0000</td>\n",
       "      <td>-0.2072</td>\n",
       "      <td>-0.7669</td>\n",
       "      <td>-0.6667</td>\n",
       "      <td>1.0</td>\n",
       "    </tr>\n",
       "    <tr>\n",
       "      <th>2</th>\n",
       "      <td>-0.0588</td>\n",
       "      <td>0.8392</td>\n",
       "      <td>0.0492</td>\n",
       "      <td>0.0000</td>\n",
       "      <td>0.0000</td>\n",
       "      <td>-0.3055</td>\n",
       "      <td>-0.4927</td>\n",
       "      <td>-0.6333</td>\n",
       "      <td>0.0</td>\n",
       "    </tr>\n",
       "    <tr>\n",
       "      <th>3</th>\n",
       "      <td>-0.8824</td>\n",
       "      <td>-0.1055</td>\n",
       "      <td>0.0820</td>\n",
       "      <td>-0.5354</td>\n",
       "      <td>-0.7778</td>\n",
       "      <td>-0.1624</td>\n",
       "      <td>-0.9240</td>\n",
       "      <td>0.0000</td>\n",
       "      <td>1.0</td>\n",
       "    </tr>\n",
       "    <tr>\n",
       "      <th>4</th>\n",
       "      <td>0.0000</td>\n",
       "      <td>0.3769</td>\n",
       "      <td>-0.3443</td>\n",
       "      <td>-0.2929</td>\n",
       "      <td>-0.6028</td>\n",
       "      <td>0.2847</td>\n",
       "      <td>0.8873</td>\n",
       "      <td>-0.6000</td>\n",
       "      <td>0.0</td>\n",
       "    </tr>\n",
       "  </tbody>\n",
       "</table>\n",
       "</div>"
      ],
      "text/plain": [
       "     Var1    Var2    Var3    Var4    Var5    Var6    Var7    Var8  diabetes\n",
       "0 -0.2941  0.4874  0.1803 -0.2929  0.0000  0.0015 -0.5312 -0.0333       0.0\n",
       "1 -0.8824 -0.1457  0.0820 -0.4141  0.0000 -0.2072 -0.7669 -0.6667       1.0\n",
       "2 -0.0588  0.8392  0.0492  0.0000  0.0000 -0.3055 -0.4927 -0.6333       0.0\n",
       "3 -0.8824 -0.1055  0.0820 -0.5354 -0.7778 -0.1624 -0.9240  0.0000       1.0\n",
       "4  0.0000  0.3769 -0.3443 -0.2929 -0.6028  0.2847  0.8873 -0.6000       0.0"
      ]
     },
     "execution_count": 5,
     "metadata": {},
     "output_type": "execute_result"
    }
   ],
   "source": [
    "df.head(5)"
   ]
  },
  {
   "cell_type": "code",
   "execution_count": 6,
   "id": "1fffda4e",
   "metadata": {},
   "outputs": [],
   "source": [
    "data = df.to_numpy()"
   ]
  },
  {
   "cell_type": "code",
   "execution_count": 7,
   "id": "a7449e33",
   "metadata": {},
   "outputs": [
    {
     "data": {
      "text/plain": [
       "numpy.float64"
      ]
     },
     "execution_count": 7,
     "metadata": {},
     "output_type": "execute_result"
    }
   ],
   "source": [
    "data.shape\n",
    "type(data[:,0][0])"
   ]
  },
  {
   "cell_type": "code",
   "execution_count": 8,
   "id": "50df1482",
   "metadata": {},
   "outputs": [],
   "source": [
    "W = [i for i in np.zeros(8)]\n",
    "w = 0.0\n",
    "b = 0.0\n",
    "# Learning Rate\n",
    "eta = 0.01"
   ]
  },
  {
   "cell_type": "code",
   "execution_count": 9,
   "id": "05199681",
   "metadata": {},
   "outputs": [],
   "source": [
    "Y = data[:,8]\n",
    "x1 = data[:, 0]\n",
    "x2 = data[:, 1]\n",
    "x3 = data[:, 2]\n",
    "x4 = data[:, 3]\n",
    "x5 = data[:, 4]\n",
    "x6 = data[:, 5]\n",
    "x7 = data[:, 6]\n",
    "x8 = data[:, 7]\n",
    "w1 = w2 = w3 = w4 = w5 = w6 = w7 = w8 = 0.0\n",
    "X = np.array([x1, x2, x3, x4, x5, x6, x7, x8])\n",
    "W = np.array([w1, w2, w3, w4, w5, w6, w7, w8])"
   ]
  },
  {
   "cell_type": "code",
   "execution_count": 10,
   "id": "6fc599eb",
   "metadata": {},
   "outputs": [],
   "source": [
    "Y_pred = np.dot(W, X)+b"
   ]
  },
  {
   "cell_type": "code",
   "execution_count": 11,
   "id": "29a50dfc",
   "metadata": {},
   "outputs": [
    {
     "data": {
      "text/plain": [
       "(759,)"
      ]
     },
     "execution_count": 11,
     "metadata": {},
     "output_type": "execute_result"
    }
   ],
   "source": [
    "Y_pred.shape"
   ]
  },
  {
   "cell_type": "markdown",
   "id": "0c536140",
   "metadata": {},
   "source": [
    "## Divide Dataset (Training / Validation)"
   ]
  },
  {
   "cell_type": "code",
   "execution_count": 18,
   "id": "11a92942",
   "metadata": {},
   "outputs": [],
   "source": [
    "x1_train = x1[:650]\n",
    "x2_train = x2[:650]\n",
    "x3_train = x3[:650]\n",
    "x4_train = x4[:650]\n",
    "x5_train = x5[:650]\n",
    "x6_train = x6[:650]\n",
    "x7_train = x7[:650]\n",
    "x8_train = x8[:650]\n",
    "X_train = np.array([x1_train, x2_train, x3_train, x4_train, x5_train, x6_train, x7_train, x8_train])\n",
    "Y_train = Y[:650]\n",
    "\n",
    "x1_test = x1[650:-1]\n",
    "x2_test = x2[650:-1]\n",
    "x3_test = x3[650:-1]\n",
    "x4_test = x4[650:-1]\n",
    "x5_test = x5[650:-1]\n",
    "x6_test = x6[650:-1]\n",
    "x7_test = x7[650:-1]\n",
    "x8_test = x8[650:-1]\n",
    "X_test = np.array([x1_test, x2_test, x3_test, x4_test, x5_test, x6_test, x7_test, x8_test])\n",
    "Y_test = Y[650:-1]"
   ]
  },
  {
   "cell_type": "markdown",
   "id": "5f2bda60",
   "metadata": {},
   "source": [
    "## Define function"
   ]
  },
  {
   "cell_type": "code",
   "execution_count": 20,
   "id": "abe55b31",
   "metadata": {},
   "outputs": [],
   "source": [
    "def sigmoid_func(X, W, b): # return values between 0 to 1\n",
    "    return 1/(1+np.power(math.e, -1 * (X.T.dot(W) + b)))"
   ]
  },
  {
   "cell_type": "code",
   "execution_count": 21,
   "id": "2a604803",
   "metadata": {},
   "outputs": [],
   "source": [
    "def diff_loss_func(Y, X, W, b):\n",
    "    dw = -np.dot(X, (Y - sigmoid_func(X, W, b)))\n",
    "    db = -np.mean(Y - sigmoid_func(X, W, b))\n",
    "    return dw, db"
   ]
  },
  {
   "cell_type": "code",
   "execution_count": 22,
   "id": "eb222e69",
   "metadata": {},
   "outputs": [],
   "source": [
    "newline = '\\n'\n",
    "open_cb = '{'\n",
    "close_cb = '}'\n",
    "def train(Y, X, W, b):\n",
    "    loss = diff_prev = 0\n",
    "    for i in range(1200):\n",
    "        loss = np.mean(-(Y*np.log(sigmoid_func(X, W, b))+(1-Y)*np.log(1-sigmoid_func(X, W, b))))\n",
    "        dw, db = diff_loss_func(Y, X, W, b)\n",
    "        W -= eta * dw\n",
    "        b -= eta * db\n",
    "        if i % 300 == 0:\n",
    "            print(f'{i}th {open_cb} {newline} loss: {loss}{newline} dw: {dw}{newline} db: {db}{newline}{close_cb}')\n",
    "    print(f'{i}th {open_cb} {newline} loss: {loss}{newline} dw: {dw}{newline} db: {db}{newline}{close_cb}')\n",
    "    return (W, b)"
   ]
  },
  {
   "cell_type": "code",
   "execution_count": 23,
   "id": "e6ee8351",
   "metadata": {},
   "outputs": [],
   "source": [
    "def check_accuracy(trained_W, trained_b, X_test, Y_test):\n",
    "    # use sigmoid function to get a value from 0 ~ 1\n",
    "    pred_Y = sigmoid_func(X_test, trained_W, trained_b)\n",
    "    # If the value is lower than 0.5, convert it to 0. Otherwise, 1.\n",
    "    for i in range(len(pred_Y)):\n",
    "        if pred_Y[i] < 0.5:\n",
    "            pred_Y[i] = 0\n",
    "        else:\n",
    "            pred_Y[i] = 1\n",
    "    # Get the accuracy\n",
    "    \n",
    "    # If the predicted values are the same as the original Y value, increase counter by 1\n",
    "    counter = 0\n",
    "    for i in range(len(pred_Y)):\n",
    "        if pred_Y[i] == Y_test[i]:\n",
    "            counter += 1\n",
    "    \n",
    "    return_str = f'{(counter / len(pred_Y)) * 100}%'\n",
    "    return (counter / len(pred_Y))"
   ]
  },
  {
   "cell_type": "markdown",
   "id": "6f3c4762",
   "metadata": {},
   "source": [
    "## Application"
   ]
  },
  {
   "cell_type": "code",
   "execution_count": 24,
   "id": "a456c44d",
   "metadata": {
    "scrolled": false
   },
   "outputs": [
    {
     "name": "stdout",
     "output_type": "stream",
     "text": [
      "1th { \n",
      " loss: 0.6931471805599453\n",
      " dw: [69.8842  22.8107  -9.7627  46.04125 52.4597  24.42865 85.49075 67.03435]\n",
      " db: -0.16307692307692306\n",
      "}\n",
      "301th { \n",
      " loss: 0.46777748914603695\n",
      " dw: [-2.86688912e-04  5.78659215e-04 -8.29642169e-04 -2.40634254e-03\n",
      "  4.48938970e-04  3.13294453e-03 -1.77538991e-03  3.99531928e-05]\n",
      " db: -0.001848445263096859\n",
      "}\n",
      "601th { \n",
      " loss: 0.46776757364191746\n",
      " dw: [-0.00025843  0.0004588   0.00100704 -0.00058022 -0.00023834 -0.00019716\n",
      " -0.00127286 -0.00041591]\n",
      " db: -0.001784461778935051\n",
      "}\n",
      "901th { \n",
      " loss: 0.46775832800346245\n",
      " dw: [-0.00024929  0.00044402  0.00097452 -0.00055847 -0.0002309  -0.00019311\n",
      " -0.0012287  -0.00040235]\n",
      " db: -0.0017236883011313773\n",
      "}\n",
      "1200th { \n",
      " loss: 0.467749729188204\n",
      " dw: [-0.00024052  0.00042983  0.00094131 -0.00053942 -0.000223   -0.00018579\n",
      " -0.00118667 -0.0003888 ]\n",
      " db: -0.001665173549879425\n",
      "}\n"
     ]
    }
   ],
   "source": [
    "trained_W, trained_b = train(Y_train, X_train, W, b)"
   ]
  },
  {
   "cell_type": "code",
   "execution_count": 25,
   "id": "f37505c6",
   "metadata": {},
   "outputs": [],
   "source": [
    "accuracy = check_accuracy(trained_W, trained_b, X_test, Y_test)"
   ]
  },
  {
   "cell_type": "code",
   "execution_count": 26,
   "id": "25abb91e",
   "metadata": {},
   "outputs": [
    {
     "data": {
      "text/plain": [
       "'75.000%'"
      ]
     },
     "execution_count": 26,
     "metadata": {},
     "output_type": "execute_result"
    }
   ],
   "source": [
    "'{0:.3%}'.format(accuracy)"
   ]
  },
  {
   "cell_type": "code",
   "execution_count": null,
   "id": "1c3e4c64",
   "metadata": {},
   "outputs": [],
   "source": []
  }
 ],
 "metadata": {
  "kernelspec": {
   "display_name": "Python 3 (ipykernel)",
   "language": "python",
   "name": "python3"
  },
  "language_info": {
   "codemirror_mode": {
    "name": "ipython",
    "version": 3
   },
   "file_extension": ".py",
   "mimetype": "text/x-python",
   "name": "python",
   "nbconvert_exporter": "python",
   "pygments_lexer": "ipython3",
   "version": "3.9.12"
  }
 },
 "nbformat": 4,
 "nbformat_minor": 5
}
