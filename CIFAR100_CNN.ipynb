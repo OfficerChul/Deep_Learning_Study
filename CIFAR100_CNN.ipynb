{
  "nbformat": 4,
  "nbformat_minor": 0,
  "metadata": {
    "colab": {
      "name": "CIFAR100_CNN.ipynb",
      "provenance": [],
      "authorship_tag": "ABX9TyP+zKtKkc0iggMlCGRGhjqQ",
      "include_colab_link": true
    },
    "kernelspec": {
      "name": "python3",
      "display_name": "Python 3"
    },
    "language_info": {
      "name": "python"
    },
    "accelerator": "GPU",
    "gpuClass": "standard"
  },
  "cells": [
    {
      "cell_type": "markdown",
      "metadata": {
        "id": "view-in-github",
        "colab_type": "text"
      },
      "source": [
        "<a href=\"https://colab.research.google.com/github/OfficerChul/Deep_Learning_Study/blob/main/CIFAR100_CNN.ipynb\" target=\"_parent\"><img src=\"https://colab.research.google.com/assets/colab-badge.svg\" alt=\"Open In Colab\"/></a>"
      ]
    },
    {
      "cell_type": "code",
      "execution_count": 56,
      "metadata": {
        "colab": {
          "base_uri": "https://localhost:8080/",
          "height": 53
        },
        "id": "HLWTSY7PbT5S",
        "outputId": "df2cae82-f68d-4214-c696-26fe652f47d7"
      },
      "outputs": [
        {
          "output_type": "execute_result",
          "data": {
            "text/plain": [
              "'\\n* FILENAME : CIFAR100_CNN.ipynb\\n*\\n* DESCRIPTION : classify cifar100 dataset in 100 classes using Convolutional Neural Network (CNN)\\n*\\n* AUTHOR : Kyochul Jang\\n* EMAIL: jang128@purdue.edu\\n* START DATE : 26 July 2022\\n'"
            ],
            "application/vnd.google.colaboratory.intrinsic+json": {
              "type": "string"
            }
          },
          "metadata": {},
          "execution_count": 56
        }
      ],
      "source": [
        "\"\"\"\n",
        "* FILENAME : CIFAR100_CNN.ipynb\n",
        "*\n",
        "* DESCRIPTION : classify cifar100 dataset in 100 classes using Convolutional Neural Network (CNN)\n",
        "*\n",
        "* AUTHOR : Kyochul Jang\n",
        "* EMAIL: jang128@purdue.edu\n",
        "* START DATE : 26 July 2022\n",
        "\"\"\""
      ]
    },
    {
      "cell_type": "code",
      "source": [
        "import tensorflow as tf\n",
        "import numpy as np\n",
        "import matplotlib.pyplot as plt\n",
        "import pandas as pd\n",
        "from tensorflow import keras\n",
        "from tensorflow.keras.layers import Conv2D, MaxPool2D, Dense, Flatten, Input, Dropout, BatchNormalization\n",
        "from tensorflow.keras.models import Sequential, Model\n",
        "from tensorflow.keras.optimizers import Adam"
      ],
      "metadata": {
        "id": "IdHluunObjBz"
      },
      "execution_count": 57,
      "outputs": []
    },
    {
      "cell_type": "code",
      "source": [
        "device_list = tf.test.gpu_device_name()"
      ],
      "metadata": {
        "id": "P6RXepsabkUZ"
      },
      "execution_count": 58,
      "outputs": []
    },
    {
      "cell_type": "code",
      "source": [
        "print(device_list)"
      ],
      "metadata": {
        "colab": {
          "base_uri": "https://localhost:8080/"
        },
        "id": "Ew9piL4hbr-L",
        "outputId": "b381f1db-ecf1-48c6-8d23-5c90ad72067b"
      },
      "execution_count": 59,
      "outputs": [
        {
          "output_type": "stream",
          "name": "stdout",
          "text": [
            "/device:GPU:0\n"
          ]
        }
      ]
    },
    {
      "cell_type": "code",
      "source": [
        "# Import Datasets"
      ],
      "metadata": {
        "id": "InHG7z0TdIHP"
      },
      "execution_count": 60,
      "outputs": []
    },
    {
      "cell_type": "code",
      "source": [
        "(x_train, y_train), (x_test, y_test) = keras.datasets.cifar100.load_data()\n",
        "x_train, x_test = x_train/255, x_test/255 # Normalize\n",
        "print(f'$ x_train: {x_train.shape}')\n",
        "print(f'$ y_train: {y_train.shape}')\n",
        "print(f'$ x_test: {x_test.shape}')\n",
        "print(f'$ y_test: {y_test.shape}')\n",
        "## One-Hot Encoding\n",
        "y_test = pd.get_dummies(i for i in y_test.T[0])\n",
        "y_train = pd.get_dummies(i for i in y_train.T[0])\n",
        "print(y_test[:5])"
      ],
      "metadata": {
        "colab": {
          "base_uri": "https://localhost:8080/"
        },
        "id": "E2OzpWE1dHjP",
        "outputId": "e8fdb4c9-d345-4750-fe14-369626cd65cf"
      },
      "execution_count": 61,
      "outputs": [
        {
          "output_type": "stream",
          "name": "stdout",
          "text": [
            "$ x_train: (50000, 32, 32, 3)\n",
            "$ y_train: (50000, 1)\n",
            "$ x_test: (10000, 32, 32, 3)\n",
            "$ y_test: (10000, 1)\n",
            "   0   1   2   3   4   5   6   7   8   9   ...  90  91  92  93  94  95  96  \\\n",
            "0   0   0   0   0   0   0   0   0   0   0  ...   0   0   0   0   0   0   0   \n",
            "1   0   0   0   0   0   0   0   0   0   0  ...   0   0   0   0   0   0   0   \n",
            "2   0   0   0   0   0   0   0   0   0   0  ...   0   0   0   0   0   0   0   \n",
            "3   0   0   0   0   0   0   0   0   0   0  ...   0   0   0   0   0   0   0   \n",
            "4   0   0   0   0   0   0   0   0   0   0  ...   0   0   0   0   0   0   0   \n",
            "\n",
            "   97  98  99  \n",
            "0   0   0   0  \n",
            "1   0   0   0  \n",
            "2   0   0   0  \n",
            "3   0   0   0  \n",
            "4   0   0   0  \n",
            "\n",
            "[5 rows x 100 columns]\n"
          ]
        }
      ]
    },
    {
      "cell_type": "code",
      "source": [
        "## Convolution Layer\n",
        "def build_model(layer_num, learning_rate, strides, pool_size, epochs, batch_size, filter_size):\n",
        "  model = Sequential()\n",
        "  for ln in range(layer_num):\n",
        "    ### Convolve\n",
        "    model.add(Conv2D(filters=filter_size, kernel_size=3, padding='same', activation='relu', use_bias = True, input_shape=(32, 32, 3)))\n",
        "    ### Maxpooling\n",
        "    model.add(MaxPool2D(pool_size=(pool_size, pool_size), strides=strides, padding='same'))\n",
        "  ## Fully Connected Layer\n",
        "  model.add(Flatten())\n",
        "  model.add(Dense(256, activation='relu'))\n",
        "  model.add(Dense(100, activation='softmax'))\n",
        "  adam = keras.optimizers.Adam(learning_rate=learning_rate)\n",
        "  model.compile(loss='categorical_crossentropy', optimizer='adam', metrics=['accuracy'])\n",
        "  model.summary()\n",
        "  return model.fit(x_train, y_train, epochs=epochs, batch_size=batch_size, validation_data=(x_test, y_test), verbose=0)"
      ],
      "metadata": {
        "id": "lUKFNnbmdfqa"
      },
      "execution_count": 62,
      "outputs": []
    },
    {
      "cell_type": "code",
      "source": [
        "def plot_cnn(layer_num, learning_rate, strides, pool_size, epochs, batch_size, filter_size, model):\n",
        "  plt.figure(figsize=(12,4))\n",
        "  nl = '\\n'\n",
        "  plt.subplot(1, 2, 1)\n",
        "  plt.plot(model.history['loss'], label='loss')\n",
        "  plt.plot(model.history['val_loss'], label='val_loss')\n",
        "  \n",
        "  plt.xlabel('Epochs')\n",
        "  plt.grid()\n",
        "  plt.legend()\n",
        "\n",
        "  plt.subplot(1, 2, 2)\n",
        "  plt.plot(model.history['accuracy'], label='accuracy')\n",
        "  plt.plot(model.history['val_accuracy'], label='val_accuracy')\n",
        "\n",
        "  # plt.suptitle(f'layer_num: {layer_num}{nl}learning rate: {learning_rate} {nl} epochs={epochs}{nl}batch_size={batch_size}{nl}strides=pool_sizes={pool_size}{nl}filter_size={filter_size}')\n",
        "  plt.xlabel('Epochs')\n",
        "  plt.grid()\n",
        "  plt.legend()\n",
        "\n",
        "  figure_title = f'layer_num: {layer_num}{nl}learning rate: {learning_rate} {nl} epochs={epochs}{nl}batch_size={batch_size}{nl}strides=pool_sizes={pool_size}{nl}filter_size={filter_size}'\n",
        "  plt.title(figure_title, y=1.08)\n",
        "\n",
        "  plt.show()"
      ],
      "metadata": {
        "id": "7XN6h6t1dv0y"
      },
      "execution_count": 63,
      "outputs": []
    },
    {
      "cell_type": "code",
      "source": [
        "## Build Model1\n",
        "# model_hp = [layer_num, learning_rate, strides, pool_size, epochs, batch_size, filter_size]\n",
        "model1_hp = [1, 1e-4, 1, 1, 50, 64, 3]\n",
        "model1 = build_model(*model1_hp)\n",
        "plot_cnn(*model1_hp, model1)"
      ],
      "metadata": {
        "colab": {
          "base_uri": "https://localhost:8080/",
          "height": 735
        },
        "id": "J7PDbEmvgNBD",
        "outputId": "8f6a3583-c58d-4c5d-eb7a-4c1978a5775c"
      },
      "execution_count": 64,
      "outputs": [
        {
          "output_type": "stream",
          "name": "stdout",
          "text": [
            "Model: \"sequential_16\"\n",
            "_________________________________________________________________\n",
            " Layer (type)                Output Shape              Param #   \n",
            "=================================================================\n",
            " conv2d_29 (Conv2D)          (None, 32, 32, 3)         84        \n",
            "                                                                 \n",
            " max_pooling2d_29 (MaxPoolin  (None, 32, 32, 3)        0         \n",
            " g2D)                                                            \n",
            "                                                                 \n",
            " flatten_15 (Flatten)        (None, 3072)              0         \n",
            "                                                                 \n",
            " dense_32 (Dense)            (None, 256)               786688    \n",
            "                                                                 \n",
            " dense_33 (Dense)            (None, 100)               25700     \n",
            "                                                                 \n",
            "=================================================================\n",
            "Total params: 812,472\n",
            "Trainable params: 812,472\n",
            "Non-trainable params: 0\n",
            "_________________________________________________________________\n"
          ]
        },
        {
          "output_type": "display_data",
          "data": {
            "text/plain": [
              "<Figure size 864x288 with 2 Axes>"
            ],
            "image/png": "[encoded data removed]"
          },
          "metadata": {
            "needs_background": "light"
          }
        }
      ]
    },
    {
      "cell_type": "code",
      "source": [
        "## Build Model2\n",
        "# model_hp = [layer_num, learning_rate, strides, pool_size, epochs, batch_size, filter_size]\n",
        "model2_hp = [1, 1e-4, 1, 2, 50, 64, 3]\n",
        "model2 = build_model(*model2_hp)\n",
        "plot_cnn(*model2_hp, model2)"
      ],
      "metadata": {
        "colab": {
          "base_uri": "https://localhost:8080/",
          "height": 735
        },
        "id": "zkDrhNn2pXoO",
        "outputId": "01bff7e5-3949-4917-a282-2cd1a702863a"
      },
      "execution_count": 65,
      "outputs": [
        {
          "metadata": {
            "tags": null
          },
          "name": "stdout",
          "output_type": "stream",
          "text": [
            "Model: \"sequential_17\"\n",
            "_________________________________________________________________\n",
            " Layer (type)                Output Shape              Param #   \n",
            "=================================================================\n",
            " conv2d_30 (Conv2D)          (None, 32, 32, 3)         84        \n",
            "                                                                 \n",
            " max_pooling2d_30 (MaxPoolin  (None, 32, 32, 3)        0         \n",
            " g2D)                                                            \n",
            "                                                                 \n",
            " flatten_16 (Flatten)        (None, 3072)              0         \n",
            "                                                                 \n",
            " dense_34 (Dense)            (None, 256)               786688    \n",
            "                                                                 \n",
            " dense_35 (Dense)            (None, 100)               25700     \n",
            "                                                                 \n",
            "=================================================================\n",
            "Total params: 812,472\n",
            "Trainable params: 812,472\n",
            "Non-trainable params: 0\n",
            "_________________________________________________________________\n"
          ]
        },
        {
          "output_type": "display_data",
          "data": {
            "text/plain": [
              "<Figure size 864x288 with 2 Axes>"
            ],
            "image/png": "[encoded data removed]"
          },
          "metadata": {
            "needs_background": "light"
          }
        }
      ]
    },
    {
      "cell_type": "code",
      "source": [
        "# sigmoid\n",
        "def build_model_sigmoid(layer_num, learning_rate, strides, pool_size, epochs, batch_size, filter_size):\n",
        "  model = Sequential()\n",
        "  for ln in range(layer_num):\n",
        "    ### Convolve\n",
        "    model.add(Conv2D(filters=filter_size, kernel_size=3, padding='same', activation='relu', use_bias = True, input_shape=(32, 32, 3)))\n",
        "    ### Maxpooling\n",
        "    model.add(MaxPool2D(pool_size=(pool_size, pool_size), strides=strides, padding='same'))\n",
        "  ## Fully Connected Layer\n",
        "  model.add(Flatten())\n",
        "  model.add(Dense(256, activation='relu'))\n",
        "  model.add(Dense(256, activation='sigmoid'))\n",
        "  model.add(Dense(100, activation='softmax'))\n",
        "  adam = keras.optimizers.Adam(learning_rate=learning_rate)\n",
        "  model.compile(loss='categorical_crossentropy', optimizer='adam', metrics=['accuracy'])\n",
        "  model.summary()\n",
        "  return model.fit(x_train, y_train, epochs=epochs, batch_size=batch_size, validation_data=(x_test, y_test), verbose=0)"
      ],
      "metadata": {
        "id": "QrxKRMPgnXSH"
      },
      "execution_count": 66,
      "outputs": []
    },
    {
      "cell_type": "code",
      "source": [
        "## Build Model3 - sigmoid right before softmax\n",
        "# model_hp = [layer_num, learning_rate, strides, pool_size, epochs, batch_size]\n",
        "model2_hp_sigmoid = [1, 1e-4, 1, 1, 50, 64, 3]\n",
        "model2_sigmoid = build_model_sigmoid(*model2_hp_sigmoid)\n",
        "plot_cnn(*model2_hp_sigmoid, model2_sigmoid)"
      ],
      "metadata": {
        "colab": {
          "base_uri": "https://localhost:8080/"
        },
        "id": "VpOabmYpr44q",
        "outputId": "49e5ba01-3cc5-4125-fcae-75c244d0bee7"
      },
      "execution_count": null,
      "outputs": [
        {
          "metadata": {
            "tags": null
          },
          "name": "stdout",
          "output_type": "stream",
          "text": [
            "Model: \"sequential_18\"\n",
            "_________________________________________________________________\n",
            " Layer (type)                Output Shape              Param #   \n",
            "=================================================================\n",
            " conv2d_31 (Conv2D)          (None, 32, 32, 3)         84        \n",
            "                                                                 \n",
            " max_pooling2d_31 (MaxPoolin  (None, 32, 32, 3)        0         \n",
            " g2D)                                                            \n",
            "                                                                 \n",
            " flatten_17 (Flatten)        (None, 3072)              0         \n",
            "                                                                 \n",
            " dense_36 (Dense)            (None, 256)               786688    \n",
            "                                                                 \n",
            " dense_37 (Dense)            (None, 256)               65792     \n",
            "                                                                 \n",
            " dense_38 (Dense)            (None, 100)               25700     \n",
            "                                                                 \n",
            "=================================================================\n",
            "Total params: 878,264\n",
            "Trainable params: 878,264\n",
            "Non-trainable params: 0\n",
            "_________________________________________________________________\n"
          ]
        }
      ]
    },
    {
      "cell_type": "code",
      "source": [
        "## Build Model4\n",
        "# model_hp = [layer_num, learning_rate, strides, pool_size, epochs, batch_size, filter_size]\n",
        "model4_hp = [3, 1e-4, 1, 1, 50, 64, 3]\n",
        "model4 = build_model(*model4_hp)\n",
        "plot_cnn(*model4_hp, model4)"
      ],
      "metadata": {
        "id": "u6AJwRQwsDFq"
      },
      "execution_count": null,
      "outputs": []
    },
    {
      "cell_type": "code",
      "source": [
        "## Build Model5\n",
        "# model_hp = [layer_num, learning_rate, strides, pool_size, epochs, batch_size, filter_size]\n",
        "model5_hp = [3, 1e-4, 1, 1, 50, 200, 3]\n",
        "model5 = build_model(*model5_hp)\n",
        "plot_cnn(*model5_hp, model5)"
      ],
      "metadata": {
        "id": "GAcx8J8aF1Zx"
      },
      "execution_count": null,
      "outputs": []
    },
    {
      "cell_type": "code",
      "source": [
        "## Build Model6\n",
        "# model_hp = [layer_num, learning_rate, strides, pool_size, epochs, batch_size, filter_size]\n",
        "model6_hp = [3, 1e-4, 3, 3, 50, 200, 32]\n",
        "model6 = build_model(*model6_hp)\n",
        "plot_cnn(*model6_hp, model6)"
      ],
      "metadata": {
        "id": "sp3lXg2gF9ye"
      },
      "execution_count": null,
      "outputs": []
    },
    {
      "cell_type": "code",
      "source": [
        "## Build Model7\n",
        "# model_hp = [layer_num, learning_rate, strides, pool_size, epochs, batch_size, filter_size]\n",
        "model7_hp = [1, 1e-4, 3, 3, 50, 200, 32]\n",
        "model7 = build_model(*model7_hp)\n",
        "plot_cnn(*model7_hp, model7)"
      ],
      "metadata": {
        "id": "Zw67rm5STk8Q"
      },
      "execution_count": null,
      "outputs": []
    },
    {
      "cell_type": "code",
      "source": [
        "## Build Model8\n",
        "# model_hp = [layer_num, learning_rate, strides, pool_size, epochs, batch_size, filter_size]\n",
        "model8_hp = [3, 1e-4, 3, 3, 25, 300, 32]\n",
        "model8 = build_model(*model8_hp)\n",
        "plot_cnn(*model8_hp, model8)"
      ],
      "metadata": {
        "id": "tqcVvWAhToaW"
      },
      "execution_count": null,
      "outputs": []
    },
    {
      "cell_type": "code",
      "source": [
        "## Build Model9\n",
        "# model_hp = [layer_num, learning_rate, strides, pool_size, epochs, batch_size, filter_size]\n",
        "model9_hp = [3, 1e-4, 3, 3, 25, 64, 32]\n",
        "model9 = build_model(*model9_hp)\n",
        "plot_cnn(*model9_hp, model9)"
      ],
      "metadata": {
        "id": "wsothI_hUNVb"
      },
      "execution_count": null,
      "outputs": []
    },
    {
      "cell_type": "code",
      "source": [
        "## Fix Overfitting\n",
        "## Convolution Layer\n",
        "def build_model_fixed(layer_num, learning_rate, strides, pool_size, epochs, batch_size, filter_size):\n",
        "  model = Sequential()\n",
        "  ### Convolve\n",
        "  model.add(Conv2D(filters=filter_size, kernel_size=3, padding='same', activation='relu', use_bias = True, input_shape=(32, 32, 3)))\n",
        "  model.add(BatchNormalization())\n",
        "  ### Maxpooling\n",
        "  model.add(MaxPool2D(pool_size=(pool_size, pool_size), strides=strides, padding='same'))\n",
        "  ### Convolve\n",
        "  model.add(Conv2D(filters=filter_size, kernel_size=3, padding='same', activation='relu', use_bias = True, input_shape=(32, 32, 3)))\n",
        "  model.add(BatchNormalization())\n",
        "  ### Maxpooling\n",
        "  model.add(MaxPool2D(pool_size=(pool_size, pool_size), strides=strides, padding='same'))\n",
        "  model.add(Dropout(0.2))\n",
        "  ### Convolve\n",
        "  model.add(Conv2D(filters=filter_size, kernel_size=3, padding='same', activation='relu', use_bias = True, input_shape=(32, 32, 3)))\n",
        "  ### Maxpooling\n",
        "  model.add(MaxPool2D(pool_size=(pool_size, pool_size), strides=strides, padding='same'))\n",
        "  ## Fully Connected Layer\n",
        "  model.add(Flatten())\n",
        "  model.add(Dropout(0.2))\n",
        "  model.add(Dense(256, activation='relu'))\n",
        "  model.add(Dropout(0.2))\n",
        "  model.add(Dense(100, activation='softmax'))\n",
        "  adam = keras.optimizers.Adam(learning_rate=learning_rate)\n",
        "  model.compile(loss='categorical_crossentropy', optimizer='adam', metrics=['accuracy'])\n",
        "  model.summary()\n",
        "  return model.fit(x_train, y_train, epochs=epochs, batch_size=batch_size, validation_data=(x_test, y_test), verbose=0)"
      ],
      "metadata": {
        "id": "RJalPhIKUox7"
      },
      "execution_count": null,
      "outputs": []
    },
    {
      "cell_type": "code",
      "source": [
        "## Build Model10\n",
        "# model_hp = [layer_num, learning_rate, strides, pool_size, epochs, batch_size, filter_size]\n",
        "model10_hp = [3, 1e-4, 3, 3, 25, 64, 32]\n",
        "model10 = build_model_fixed(*model10_hp)\n",
        "plot_cnn(*model10_hp, model10)"
      ],
      "metadata": {
        "id": "LzL-GVIB9ycf"
      },
      "execution_count": null,
      "outputs": []
    },
    {
      "cell_type": "code",
      "source": [
        ""
      ],
      "metadata": {
        "id": "MyBD1VQWF-sT"
      },
      "execution_count": null,
      "outputs": []
    }
  ]
}