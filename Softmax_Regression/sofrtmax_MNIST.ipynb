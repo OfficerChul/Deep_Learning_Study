{
 "cells": [
  {
   "cell_type": "raw",
   "id": "f7b4060f-915c-4911-b45d-1a87acce6f96",
   "metadata": {},
   "source": [
    "\"\"\"\n",
    "* FILENAME : softmax_MNIST.ipynb\n",
    "*\n",
    "* DESCRIPTION : softmax regressing using MNIST dataset\n",
    "*\n",
    "* AUTHOR : Kyochul Jang\n",
    "* EMAIL: jang128@purdue.edu\n",
    "* START DATE : 4 July 2022\n",
    "\"\"\""
   ]
  },
  {
   "cell_type": "markdown",
   "id": "4ff70c49-9df7-4db9-bf0e-b191e0c4dcef",
   "metadata": {},
   "source": [
    "# MNIST Classifier Model with Multiple Logistic Regression"
   ]
  },
  {
   "cell_type": "markdown",
   "id": "71a1815f-a4d5-4cfd-890a-9ae1c2ee1dbd",
   "metadata": {},
   "source": [
    "## Import Libraries"
   ]
  },
  {
   "cell_type": "code",
   "execution_count": 127,
   "id": "4c2647b6-6635-46ed-90c6-6bdd57e82d56",
   "metadata": {},
   "outputs": [],
   "source": [
    "import numpy as np\n",
    "import tensorflow as tf\n",
    "import matplotlib.pyplot as plt\n",
    "from tensorflow.keras.datasets import mnist"
   ]
  },
  {
   "cell_type": "markdown",
   "id": "5fcc84a3-cffa-41dc-83ad-f856cad32bba",
   "metadata": {},
   "source": [
    "## Define Functions"
   ]
  },
  {
   "cell_type": "code",
   "execution_count": 128,
   "id": "50fddbd9-aaeb-4277-9b53-c6dbdd986178",
   "metadata": {},
   "outputs": [],
   "source": [
    "# One-hot Encoding for lables\n",
    "def one_hot_encoding(labels, class_num):\n",
    "    data_num = len(labels) # 60000, 10000\n",
    "    result = np.zeros((data_num, 10))\n",
    "    \n",
    "    for idx in range(data_num):\n",
    "        result[idx][labels[idx]] = 1\n",
    "        \n",
    "    return result\n",
    "\n",
    "def Z(X, W, B):\n",
    "    return tf.add(tf.matmul(X, W), B)\n",
    "\n",
    "def softmax(Z):\n",
    "    return tf.nn.softmax(Z)\n",
    "\n",
    "def cross_entropy(Y, softmax):\n",
    "    return -tf.reduce_sum(Y * tf.log(softmax), axis=1)"
   ]
  },
  {
   "cell_type": "markdown",
   "id": "7375b7cf-bb58-48b5-8ba9-4f634d198daf",
   "metadata": {},
   "source": [
    "## Initialize Variables"
   ]
  },
  {
   "cell_type": "code",
   "execution_count": 129,
   "id": "cd78f6d6-b63f-439a-bef9-d40322a5ef01",
   "metadata": {},
   "outputs": [
    {
     "name": "stdout",
     "output_type": "stream",
     "text": [
      "x_train: (60000, 28, 28)\n",
      "y_train: (60000,)\n",
      "x_test: (10000, 28, 28)\n",
      "y_test: (10000,)\n"
     ]
    }
   ],
   "source": [
    "# Load MNIST dataset from implementing Keras API\n",
    "(x_train, y_train), (x_test, y_test) = mnist.load_data() # 60000 training set, 10000 testing set\n",
    "\n",
    "print(f'x_train: {x_train.shape}')\n",
    "print(f'y_train: {y_train.shape}')\n",
    "print(f'x_test: {x_test.shape}')\n",
    "print(f'y_test: {y_test.shape}')"
   ]
  },
  {
   "cell_type": "markdown",
   "id": "495c98e1-5814-4f59-932b-90aa6254b975",
   "metadata": {},
   "source": [
    "## Preprocess Data"
   ]
  },
  {
   "cell_type": "code",
   "execution_count": 142,
   "id": "722a22f8-355f-44cb-b79e-ac6f1e4799c5",
   "metadata": {},
   "outputs": [],
   "source": [
    "# Reshape train data and test data / Divide by 255 to normalize (the largest value of RGB is 255).\n",
    "x_train = x_train.reshape((60000, 28*28)) / 255 # (60000, 784)\n",
    "x_test = x_test.reshape((10000, 28*28)) / 255 # (10000, 784)\n",
    "\n",
    "# Hyperparameters\n",
    "class_num = 10\n",
    "learning_rate = 0.001\n",
    "batch_size = 100\n",
    "batch_number = int(len(x_train) / batch_size)\n",
    "epochs = 50"
   ]
  },
  {
   "cell_type": "code",
   "execution_count": 131,
   "id": "4758ccdd-1ee0-4254-b043-4b21664d4d3f",
   "metadata": {},
   "outputs": [
    {
     "name": "stdout",
     "output_type": "stream",
     "text": [
      "[[0. 0. 0. 0. 0. 1. 0. 0. 0. 0.]\n",
      " [1. 0. 0. 0. 0. 0. 0. 0. 0. 0.]\n",
      " [0. 0. 0. 0. 1. 0. 0. 0. 0. 0.]\n",
      " [0. 1. 0. 0. 0. 0. 0. 0. 0. 0.]]\n"
     ]
    }
   ],
   "source": [
    "# Make Y values using One-Hot encoding\n",
    "y_train = one_hot_encoding(y_train, class_num)\n",
    "print(y_train[:4])"
   ]
  },
  {
   "cell_type": "markdown",
   "id": "e8e3fdd3-44f2-474e-8419-300e8908bad6",
   "metadata": {},
   "source": [
    "## Build Model"
   ]
  },
  {
   "cell_type": "code",
   "execution_count": 143,
   "id": "24069dfe-e4c4-4dd3-b58c-720ccd5bcfdc",
   "metadata": {},
   "outputs": [],
   "source": [
    "# Initialize tensors with proper size and data type (float32)\n",
    "X = tf.placeholder(tf.float32, [None, 28 * 28])\n",
    "Y = tf.placeholder(tf.float32, [None, class_num])\n",
    "W = tf.Variable(np.zeros((784, 10), np.float32))\n",
    "B = tf.Variable(np.zeros((len(x_train), 10),np.float32))"
   ]
  },
  {
   "cell_type": "code",
   "execution_count": 133,
   "id": "e7dde5ee-dc91-4927-9154-89bf02961df2",
   "metadata": {},
   "outputs": [],
   "source": [
    "softmax = softmax(Z(X, W, B))\n",
    "cost = cross_entropy(Y, softmax)\n",
    "optimizer = tf.train.GradientDescentOptimizer(learning_rate).minimize(cost)"
   ]
  },
  {
   "cell_type": "code",
   "execution_count": 144,
   "id": "75d58900-d244-481e-a6f9-bc87392561e1",
   "metadata": {},
   "outputs": [
    {
     "ename": "InvalidArgumentError",
     "evalue": "You must feed a value for placeholder tensor 'Placeholder_16' with dtype float and shape [60000,784]\n\t [[node Placeholder_16 (defined at C:\\Users\\KyochulJang\\anaconda3\\envs\\dlstudy\\lib\\site-packages\\tensorflow_core\\python\\framework\\ops.py:1762) ]]\n\nOriginal stack trace for 'Placeholder_16':\n  File \"C:\\Users\\KyochulJang\\anaconda3\\envs\\dlstudy\\lib\\runpy.py\", line 193, in _run_module_as_main\n    \"__main__\", mod_spec)\n  File \"C:\\Users\\KyochulJang\\anaconda3\\envs\\dlstudy\\lib\\runpy.py\", line 85, in _run_code\n    exec(code, run_globals)\n  File \"C:\\Users\\KyochulJang\\anaconda3\\envs\\dlstudy\\lib\\site-packages\\ipykernel_launcher.py\", line 16, in <module>\n    app.launch_new_instance()\n  File \"C:\\Users\\KyochulJang\\anaconda3\\envs\\dlstudy\\lib\\site-packages\\traitlets\\config\\application.py\", line 664, in launch_instance\n    app.start()\n  File \"C:\\Users\\KyochulJang\\anaconda3\\envs\\dlstudy\\lib\\site-packages\\ipykernel\\kernelapp.py\", line 612, in start\n    self.io_loop.start()\n  File \"C:\\Users\\KyochulJang\\anaconda3\\envs\\dlstudy\\lib\\site-packages\\tornado\\platform\\asyncio.py\", line 199, in start\n    self.asyncio_loop.run_forever()\n  File \"C:\\Users\\KyochulJang\\anaconda3\\envs\\dlstudy\\lib\\asyncio\\base_events.py\", line 442, in run_forever\n    self._run_once()\n  File \"C:\\Users\\KyochulJang\\anaconda3\\envs\\dlstudy\\lib\\asyncio\\base_events.py\", line 1462, in _run_once\n    handle._run()\n  File \"C:\\Users\\KyochulJang\\anaconda3\\envs\\dlstudy\\lib\\asyncio\\events.py\", line 145, in _run\n    self._callback(*self._args)\n  File \"C:\\Users\\KyochulJang\\anaconda3\\envs\\dlstudy\\lib\\site-packages\\tornado\\ioloop.py\", line 688, in <lambda>\n    lambda f: self._run_callback(functools.partial(callback, future))\n  File \"C:\\Users\\KyochulJang\\anaconda3\\envs\\dlstudy\\lib\\site-packages\\tornado\\ioloop.py\", line 741, in _run_callback\n    ret = callback()\n  File \"C:\\Users\\KyochulJang\\anaconda3\\envs\\dlstudy\\lib\\site-packages\\tornado\\gen.py\", line 814, in inner\n    self.ctx_run(self.run)\n  File \"C:\\Users\\KyochulJang\\anaconda3\\envs\\dlstudy\\lib\\site-packages\\contextvars\\__init__.py\", line 38, in run\n    return callable(*args, **kwargs)\n  File \"C:\\Users\\KyochulJang\\anaconda3\\envs\\dlstudy\\lib\\site-packages\\tornado\\gen.py\", line 775, in run\n    yielded = self.gen.send(value)\n  File \"C:\\Users\\KyochulJang\\anaconda3\\envs\\dlstudy\\lib\\site-packages\\ipykernel\\kernelbase.py\", line 365, in process_one\n    yield gen.maybe_future(dispatch(*args))\n  File \"C:\\Users\\KyochulJang\\anaconda3\\envs\\dlstudy\\lib\\site-packages\\tornado\\gen.py\", line 234, in wrapper\n    yielded = ctx_run(next, result)\n  File \"C:\\Users\\KyochulJang\\anaconda3\\envs\\dlstudy\\lib\\site-packages\\contextvars\\__init__.py\", line 38, in run\n    return callable(*args, **kwargs)\n  File \"C:\\Users\\KyochulJang\\anaconda3\\envs\\dlstudy\\lib\\site-packages\\ipykernel\\kernelbase.py\", line 268, in dispatch_shell\n    yield gen.maybe_future(handler(stream, idents, msg))\n  File \"C:\\Users\\KyochulJang\\anaconda3\\envs\\dlstudy\\lib\\site-packages\\tornado\\gen.py\", line 234, in wrapper\n    yielded = ctx_run(next, result)\n  File \"C:\\Users\\KyochulJang\\anaconda3\\envs\\dlstudy\\lib\\site-packages\\contextvars\\__init__.py\", line 38, in run\n    return callable(*args, **kwargs)\n  File \"C:\\Users\\KyochulJang\\anaconda3\\envs\\dlstudy\\lib\\site-packages\\ipykernel\\kernelbase.py\", line 545, in execute_request\n    user_expressions, allow_stdin,\n  File \"C:\\Users\\KyochulJang\\anaconda3\\envs\\dlstudy\\lib\\site-packages\\tornado\\gen.py\", line 234, in wrapper\n    yielded = ctx_run(next, result)\n  File \"C:\\Users\\KyochulJang\\anaconda3\\envs\\dlstudy\\lib\\site-packages\\contextvars\\__init__.py\", line 38, in run\n    return callable(*args, **kwargs)\n  File \"C:\\Users\\KyochulJang\\anaconda3\\envs\\dlstudy\\lib\\site-packages\\ipykernel\\ipkernel.py\", line 306, in do_execute\n    res = shell.run_cell(code, store_history=store_history, silent=silent)\n  File \"C:\\Users\\KyochulJang\\anaconda3\\envs\\dlstudy\\lib\\site-packages\\ipykernel\\zmqshell.py\", line 536, in run_cell\n    return super(ZMQInteractiveShell, self).run_cell(*args, **kwargs)\n  File \"C:\\Users\\KyochulJang\\anaconda3\\envs\\dlstudy\\lib\\site-packages\\IPython\\core\\interactiveshell.py\", line 2867, in run_cell\n    raw_cell, store_history, silent, shell_futures)\n  File \"C:\\Users\\KyochulJang\\anaconda3\\envs\\dlstudy\\lib\\site-packages\\IPython\\core\\interactiveshell.py\", line 2895, in _run_cell\n    return runner(coro)\n  File \"C:\\Users\\KyochulJang\\anaconda3\\envs\\dlstudy\\lib\\site-packages\\IPython\\core\\async_helpers.py\", line 68, in _pseudo_sync_runner\n    coro.send(None)\n  File \"C:\\Users\\KyochulJang\\anaconda3\\envs\\dlstudy\\lib\\site-packages\\IPython\\core\\interactiveshell.py\", line 3072, in run_cell_async\n    interactivity=interactivity, compiler=compiler, result=result)\n  File \"C:\\Users\\KyochulJang\\anaconda3\\envs\\dlstudy\\lib\\site-packages\\IPython\\core\\interactiveshell.py\", line 3263, in run_ast_nodes\n    if (await self.run_code(code, result,  async_=asy)):\n  File \"C:\\Users\\KyochulJang\\anaconda3\\envs\\dlstudy\\lib\\site-packages\\IPython\\core\\interactiveshell.py\", line 3343, in run_code\n    exec(code_obj, self.user_global_ns, self.user_ns)\n  File \"<ipython-input-132-bbad3f105c8f>\", line 2, in <module>\n    X = tf.placeholder(tf.float32, [len(x_train), 28 * 28])\n  File \"C:\\Users\\KyochulJang\\anaconda3\\envs\\dlstudy\\lib\\site-packages\\tensorflow_core\\python\\ops\\array_ops.py\", line 2619, in placeholder\n    return gen_array_ops.placeholder(dtype=dtype, shape=shape, name=name)\n  File \"C:\\Users\\KyochulJang\\anaconda3\\envs\\dlstudy\\lib\\site-packages\\tensorflow_core\\python\\ops\\gen_array_ops.py\", line 8038, in placeholder\n    \"Placeholder\", dtype=dtype, shape=shape, name=name)\n  File \"C:\\Users\\KyochulJang\\anaconda3\\envs\\dlstudy\\lib\\site-packages\\tensorflow_core\\python\\framework\\op_def_library.py\", line 794, in _apply_op_helper\n    op_def=op_def)\n  File \"C:\\Users\\KyochulJang\\anaconda3\\envs\\dlstudy\\lib\\site-packages\\tensorflow_core\\python\\util\\deprecation.py\", line 507, in new_func\n    return func(*args, **kwargs)\n  File \"C:\\Users\\KyochulJang\\anaconda3\\envs\\dlstudy\\lib\\site-packages\\tensorflow_core\\python\\framework\\ops.py\", line 3371, in create_op\n    attrs, op_def, compute_device)\n  File \"C:\\Users\\KyochulJang\\anaconda3\\envs\\dlstudy\\lib\\site-packages\\tensorflow_core\\python\\framework\\ops.py\", line 3440, in _create_op_internal\n    op_def=op_def)\n  File \"C:\\Users\\KyochulJang\\anaconda3\\envs\\dlstudy\\lib\\site-packages\\tensorflow_core\\python\\framework\\ops.py\", line 1762, in __init__\n    self._traceback = tf_stack.extract_stack()\n",
     "output_type": "error",
     "traceback": [
      "\u001b[1;31m---------------------------------------------------------------------------\u001b[0m",
      "\u001b[1;31mInvalidArgumentError\u001b[0m                      Traceback (most recent call last)",
      "\u001b[1;32m~\\anaconda3\\envs\\dlstudy\\lib\\site-packages\\tensorflow_core\\python\\client\\session.py\u001b[0m in \u001b[0;36m_do_call\u001b[1;34m(self, fn, *args)\u001b[0m\n\u001b[0;32m   1364\u001b[0m     \u001b[1;32mtry\u001b[0m\u001b[1;33m:\u001b[0m\u001b[1;33m\u001b[0m\u001b[1;33m\u001b[0m\u001b[0m\n\u001b[1;32m-> 1365\u001b[1;33m       \u001b[1;32mreturn\u001b[0m \u001b[0mfn\u001b[0m\u001b[1;33m(\u001b[0m\u001b[1;33m*\u001b[0m\u001b[0margs\u001b[0m\u001b[1;33m)\u001b[0m\u001b[1;33m\u001b[0m\u001b[1;33m\u001b[0m\u001b[0m\n\u001b[0m\u001b[0;32m   1366\u001b[0m     \u001b[1;32mexcept\u001b[0m \u001b[0merrors\u001b[0m\u001b[1;33m.\u001b[0m\u001b[0mOpError\u001b[0m \u001b[1;32mas\u001b[0m \u001b[0me\u001b[0m\u001b[1;33m:\u001b[0m\u001b[1;33m\u001b[0m\u001b[1;33m\u001b[0m\u001b[0m\n",
      "\u001b[1;32m~\\anaconda3\\envs\\dlstudy\\lib\\site-packages\\tensorflow_core\\python\\client\\session.py\u001b[0m in \u001b[0;36m_run_fn\u001b[1;34m(feed_dict, fetch_list, target_list, options, run_metadata)\u001b[0m\n\u001b[0;32m   1349\u001b[0m       return self._call_tf_sessionrun(options, feed_dict, fetch_list,\n\u001b[1;32m-> 1350\u001b[1;33m                                       target_list, run_metadata)\n\u001b[0m\u001b[0;32m   1351\u001b[0m \u001b[1;33m\u001b[0m\u001b[0m\n",
      "\u001b[1;32m~\\anaconda3\\envs\\dlstudy\\lib\\site-packages\\tensorflow_core\\python\\client\\session.py\u001b[0m in \u001b[0;36m_call_tf_sessionrun\u001b[1;34m(self, options, feed_dict, fetch_list, target_list, run_metadata)\u001b[0m\n\u001b[0;32m   1442\u001b[0m                                             \u001b[0mfetch_list\u001b[0m\u001b[1;33m,\u001b[0m \u001b[0mtarget_list\u001b[0m\u001b[1;33m,\u001b[0m\u001b[1;33m\u001b[0m\u001b[1;33m\u001b[0m\u001b[0m\n\u001b[1;32m-> 1443\u001b[1;33m                                             run_metadata)\n\u001b[0m\u001b[0;32m   1444\u001b[0m \u001b[1;33m\u001b[0m\u001b[0m\n",
      "\u001b[1;31mInvalidArgumentError\u001b[0m: You must feed a value for placeholder tensor 'Placeholder_16' with dtype float and shape [60000,784]\n\t [[{{node Placeholder_16}}]]",
      "\nDuring handling of the above exception, another exception occurred:\n",
      "\u001b[1;31mInvalidArgumentError\u001b[0m                      Traceback (most recent call last)",
      "\u001b[1;32m<ipython-input-144-611a65b71bb6>\u001b[0m in \u001b[0;36m<module>\u001b[1;34m\u001b[0m\n\u001b[0;32m      7\u001b[0m             \u001b[0mx\u001b[0m \u001b[1;33m=\u001b[0m \u001b[0mx_train\u001b[0m\u001b[1;33m[\u001b[0m\u001b[0moffset\u001b[0m\u001b[1;33m:\u001b[0m \u001b[0moffset\u001b[0m \u001b[1;33m+\u001b[0m \u001b[0mbatch_size\u001b[0m\u001b[1;33m]\u001b[0m\u001b[1;33m\u001b[0m\u001b[1;33m\u001b[0m\u001b[0m\n\u001b[0;32m      8\u001b[0m             \u001b[0my\u001b[0m \u001b[1;33m=\u001b[0m \u001b[0my_train\u001b[0m\u001b[1;33m[\u001b[0m\u001b[0moffset\u001b[0m\u001b[1;33m:\u001b[0m \u001b[0moffset\u001b[0m \u001b[1;33m+\u001b[0m \u001b[0mbatch_size\u001b[0m\u001b[1;33m]\u001b[0m\u001b[1;33m\u001b[0m\u001b[1;33m\u001b[0m\u001b[0m\n\u001b[1;32m----> 9\u001b[1;33m             \u001b[0msesh\u001b[0m\u001b[1;33m.\u001b[0m\u001b[0mrun\u001b[0m\u001b[1;33m(\u001b[0m\u001b[0moptimizer\u001b[0m\u001b[1;33m,\u001b[0m \u001b[0mfeed_dict\u001b[0m\u001b[1;33m=\u001b[0m\u001b[1;33m{\u001b[0m\u001b[0mX\u001b[0m\u001b[1;33m:\u001b[0m \u001b[0mx\u001b[0m\u001b[1;33m,\u001b[0m \u001b[0mY\u001b[0m\u001b[1;33m:\u001b[0m\u001b[0my\u001b[0m\u001b[1;33m}\u001b[0m\u001b[1;33m)\u001b[0m\u001b[1;33m\u001b[0m\u001b[1;33m\u001b[0m\u001b[0m\n\u001b[0m\u001b[0;32m     10\u001b[0m             \u001b[0mc\u001b[0m \u001b[1;33m=\u001b[0m \u001b[0msesh\u001b[0m\u001b[1;33m.\u001b[0m\u001b[0mrun\u001b[0m\u001b[1;33m(\u001b[0m\u001b[0mcost\u001b[0m\u001b[1;33m,\u001b[0m \u001b[0mfeed_dict\u001b[0m\u001b[1;33m=\u001b[0m\u001b[1;33m{\u001b[0m\u001b[0mX\u001b[0m\u001b[1;33m:\u001b[0m\u001b[0mx\u001b[0m\u001b[1;33m,\u001b[0m \u001b[0mY\u001b[0m\u001b[1;33m:\u001b[0m\u001b[0my\u001b[0m\u001b[1;33m}\u001b[0m\u001b[1;33m)\u001b[0m\u001b[1;33m\u001b[0m\u001b[1;33m\u001b[0m\u001b[0m\n\u001b[0;32m     11\u001b[0m \u001b[1;33m\u001b[0m\u001b[0m\n",
      "\u001b[1;32m~\\anaconda3\\envs\\dlstudy\\lib\\site-packages\\tensorflow_core\\python\\client\\session.py\u001b[0m in \u001b[0;36mrun\u001b[1;34m(self, fetches, feed_dict, options, run_metadata)\u001b[0m\n\u001b[0;32m    954\u001b[0m     \u001b[1;32mtry\u001b[0m\u001b[1;33m:\u001b[0m\u001b[1;33m\u001b[0m\u001b[1;33m\u001b[0m\u001b[0m\n\u001b[0;32m    955\u001b[0m       result = self._run(None, fetches, feed_dict, options_ptr,\n\u001b[1;32m--> 956\u001b[1;33m                          run_metadata_ptr)\n\u001b[0m\u001b[0;32m    957\u001b[0m       \u001b[1;32mif\u001b[0m \u001b[0mrun_metadata\u001b[0m\u001b[1;33m:\u001b[0m\u001b[1;33m\u001b[0m\u001b[1;33m\u001b[0m\u001b[0m\n\u001b[0;32m    958\u001b[0m         \u001b[0mproto_data\u001b[0m \u001b[1;33m=\u001b[0m \u001b[0mtf_session\u001b[0m\u001b[1;33m.\u001b[0m\u001b[0mTF_GetBuffer\u001b[0m\u001b[1;33m(\u001b[0m\u001b[0mrun_metadata_ptr\u001b[0m\u001b[1;33m)\u001b[0m\u001b[1;33m\u001b[0m\u001b[1;33m\u001b[0m\u001b[0m\n",
      "\u001b[1;32m~\\anaconda3\\envs\\dlstudy\\lib\\site-packages\\tensorflow_core\\python\\client\\session.py\u001b[0m in \u001b[0;36m_run\u001b[1;34m(self, handle, fetches, feed_dict, options, run_metadata)\u001b[0m\n\u001b[0;32m   1178\u001b[0m     \u001b[1;32mif\u001b[0m \u001b[0mfinal_fetches\u001b[0m \u001b[1;32mor\u001b[0m \u001b[0mfinal_targets\u001b[0m \u001b[1;32mor\u001b[0m \u001b[1;33m(\u001b[0m\u001b[0mhandle\u001b[0m \u001b[1;32mand\u001b[0m \u001b[0mfeed_dict_tensor\u001b[0m\u001b[1;33m)\u001b[0m\u001b[1;33m:\u001b[0m\u001b[1;33m\u001b[0m\u001b[1;33m\u001b[0m\u001b[0m\n\u001b[0;32m   1179\u001b[0m       results = self._do_run(handle, final_targets, final_fetches,\n\u001b[1;32m-> 1180\u001b[1;33m                              feed_dict_tensor, options, run_metadata)\n\u001b[0m\u001b[0;32m   1181\u001b[0m     \u001b[1;32melse\u001b[0m\u001b[1;33m:\u001b[0m\u001b[1;33m\u001b[0m\u001b[1;33m\u001b[0m\u001b[0m\n\u001b[0;32m   1182\u001b[0m       \u001b[0mresults\u001b[0m \u001b[1;33m=\u001b[0m \u001b[1;33m[\u001b[0m\u001b[1;33m]\u001b[0m\u001b[1;33m\u001b[0m\u001b[1;33m\u001b[0m\u001b[0m\n",
      "\u001b[1;32m~\\anaconda3\\envs\\dlstudy\\lib\\site-packages\\tensorflow_core\\python\\client\\session.py\u001b[0m in \u001b[0;36m_do_run\u001b[1;34m(self, handle, target_list, fetch_list, feed_dict, options, run_metadata)\u001b[0m\n\u001b[0;32m   1357\u001b[0m     \u001b[1;32mif\u001b[0m \u001b[0mhandle\u001b[0m \u001b[1;32mis\u001b[0m \u001b[1;32mNone\u001b[0m\u001b[1;33m:\u001b[0m\u001b[1;33m\u001b[0m\u001b[1;33m\u001b[0m\u001b[0m\n\u001b[0;32m   1358\u001b[0m       return self._do_call(_run_fn, feeds, fetches, targets, options,\n\u001b[1;32m-> 1359\u001b[1;33m                            run_metadata)\n\u001b[0m\u001b[0;32m   1360\u001b[0m     \u001b[1;32melse\u001b[0m\u001b[1;33m:\u001b[0m\u001b[1;33m\u001b[0m\u001b[1;33m\u001b[0m\u001b[0m\n\u001b[0;32m   1361\u001b[0m       \u001b[1;32mreturn\u001b[0m \u001b[0mself\u001b[0m\u001b[1;33m.\u001b[0m\u001b[0m_do_call\u001b[0m\u001b[1;33m(\u001b[0m\u001b[0m_prun_fn\u001b[0m\u001b[1;33m,\u001b[0m \u001b[0mhandle\u001b[0m\u001b[1;33m,\u001b[0m \u001b[0mfeeds\u001b[0m\u001b[1;33m,\u001b[0m \u001b[0mfetches\u001b[0m\u001b[1;33m)\u001b[0m\u001b[1;33m\u001b[0m\u001b[1;33m\u001b[0m\u001b[0m\n",
      "\u001b[1;32m~\\anaconda3\\envs\\dlstudy\\lib\\site-packages\\tensorflow_core\\python\\client\\session.py\u001b[0m in \u001b[0;36m_do_call\u001b[1;34m(self, fn, *args)\u001b[0m\n\u001b[0;32m   1382\u001b[0m                     \u001b[1;34m'\\nsession_config.graph_options.rewrite_options.'\u001b[0m\u001b[1;33m\u001b[0m\u001b[1;33m\u001b[0m\u001b[0m\n\u001b[0;32m   1383\u001b[0m                     'disable_meta_optimizer = True')\n\u001b[1;32m-> 1384\u001b[1;33m       \u001b[1;32mraise\u001b[0m \u001b[0mtype\u001b[0m\u001b[1;33m(\u001b[0m\u001b[0me\u001b[0m\u001b[1;33m)\u001b[0m\u001b[1;33m(\u001b[0m\u001b[0mnode_def\u001b[0m\u001b[1;33m,\u001b[0m \u001b[0mop\u001b[0m\u001b[1;33m,\u001b[0m \u001b[0mmessage\u001b[0m\u001b[1;33m)\u001b[0m\u001b[1;33m\u001b[0m\u001b[1;33m\u001b[0m\u001b[0m\n\u001b[0m\u001b[0;32m   1385\u001b[0m \u001b[1;33m\u001b[0m\u001b[0m\n\u001b[0;32m   1386\u001b[0m   \u001b[1;32mdef\u001b[0m \u001b[0m_extend_graph\u001b[0m\u001b[1;33m(\u001b[0m\u001b[0mself\u001b[0m\u001b[1;33m)\u001b[0m\u001b[1;33m:\u001b[0m\u001b[1;33m\u001b[0m\u001b[1;33m\u001b[0m\u001b[0m\n",
      "\u001b[1;31mInvalidArgumentError\u001b[0m: You must feed a value for placeholder tensor 'Placeholder_16' with dtype float and shape [60000,784]\n\t [[node Placeholder_16 (defined at C:\\Users\\KyochulJang\\anaconda3\\envs\\dlstudy\\lib\\site-packages\\tensorflow_core\\python\\framework\\ops.py:1762) ]]\n\nOriginal stack trace for 'Placeholder_16':\n  File \"C:\\Users\\KyochulJang\\anaconda3\\envs\\dlstudy\\lib\\runpy.py\", line 193, in _run_module_as_main\n    \"__main__\", mod_spec)\n  File \"C:\\Users\\KyochulJang\\anaconda3\\envs\\dlstudy\\lib\\runpy.py\", line 85, in _run_code\n    exec(code, run_globals)\n  File \"C:\\Users\\KyochulJang\\anaconda3\\envs\\dlstudy\\lib\\site-packages\\ipykernel_launcher.py\", line 16, in <module>\n    app.launch_new_instance()\n  File \"C:\\Users\\KyochulJang\\anaconda3\\envs\\dlstudy\\lib\\site-packages\\traitlets\\config\\application.py\", line 664, in launch_instance\n    app.start()\n  File \"C:\\Users\\KyochulJang\\anaconda3\\envs\\dlstudy\\lib\\site-packages\\ipykernel\\kernelapp.py\", line 612, in start\n    self.io_loop.start()\n  File \"C:\\Users\\KyochulJang\\anaconda3\\envs\\dlstudy\\lib\\site-packages\\tornado\\platform\\asyncio.py\", line 199, in start\n    self.asyncio_loop.run_forever()\n  File \"C:\\Users\\KyochulJang\\anaconda3\\envs\\dlstudy\\lib\\asyncio\\base_events.py\", line 442, in run_forever\n    self._run_once()\n  File \"C:\\Users\\KyochulJang\\anaconda3\\envs\\dlstudy\\lib\\asyncio\\base_events.py\", line 1462, in _run_once\n    handle._run()\n  File \"C:\\Users\\KyochulJang\\anaconda3\\envs\\dlstudy\\lib\\asyncio\\events.py\", line 145, in _run\n    self._callback(*self._args)\n  File \"C:\\Users\\KyochulJang\\anaconda3\\envs\\dlstudy\\lib\\site-packages\\tornado\\ioloop.py\", line 688, in <lambda>\n    lambda f: self._run_callback(functools.partial(callback, future))\n  File \"C:\\Users\\KyochulJang\\anaconda3\\envs\\dlstudy\\lib\\site-packages\\tornado\\ioloop.py\", line 741, in _run_callback\n    ret = callback()\n  File \"C:\\Users\\KyochulJang\\anaconda3\\envs\\dlstudy\\lib\\site-packages\\tornado\\gen.py\", line 814, in inner\n    self.ctx_run(self.run)\n  File \"C:\\Users\\KyochulJang\\anaconda3\\envs\\dlstudy\\lib\\site-packages\\contextvars\\__init__.py\", line 38, in run\n    return callable(*args, **kwargs)\n  File \"C:\\Users\\KyochulJang\\anaconda3\\envs\\dlstudy\\lib\\site-packages\\tornado\\gen.py\", line 775, in run\n    yielded = self.gen.send(value)\n  File \"C:\\Users\\KyochulJang\\anaconda3\\envs\\dlstudy\\lib\\site-packages\\ipykernel\\kernelbase.py\", line 365, in process_one\n    yield gen.maybe_future(dispatch(*args))\n  File \"C:\\Users\\KyochulJang\\anaconda3\\envs\\dlstudy\\lib\\site-packages\\tornado\\gen.py\", line 234, in wrapper\n    yielded = ctx_run(next, result)\n  File \"C:\\Users\\KyochulJang\\anaconda3\\envs\\dlstudy\\lib\\site-packages\\contextvars\\__init__.py\", line 38, in run\n    return callable(*args, **kwargs)\n  File \"C:\\Users\\KyochulJang\\anaconda3\\envs\\dlstudy\\lib\\site-packages\\ipykernel\\kernelbase.py\", line 268, in dispatch_shell\n    yield gen.maybe_future(handler(stream, idents, msg))\n  File \"C:\\Users\\KyochulJang\\anaconda3\\envs\\dlstudy\\lib\\site-packages\\tornado\\gen.py\", line 234, in wrapper\n    yielded = ctx_run(next, result)\n  File \"C:\\Users\\KyochulJang\\anaconda3\\envs\\dlstudy\\lib\\site-packages\\contextvars\\__init__.py\", line 38, in run\n    return callable(*args, **kwargs)\n  File \"C:\\Users\\KyochulJang\\anaconda3\\envs\\dlstudy\\lib\\site-packages\\ipykernel\\kernelbase.py\", line 545, in execute_request\n    user_expressions, allow_stdin,\n  File \"C:\\Users\\KyochulJang\\anaconda3\\envs\\dlstudy\\lib\\site-packages\\tornado\\gen.py\", line 234, in wrapper\n    yielded = ctx_run(next, result)\n  File \"C:\\Users\\KyochulJang\\anaconda3\\envs\\dlstudy\\lib\\site-packages\\contextvars\\__init__.py\", line 38, in run\n    return callable(*args, **kwargs)\n  File \"C:\\Users\\KyochulJang\\anaconda3\\envs\\dlstudy\\lib\\site-packages\\ipykernel\\ipkernel.py\", line 306, in do_execute\n    res = shell.run_cell(code, store_history=store_history, silent=silent)\n  File \"C:\\Users\\KyochulJang\\anaconda3\\envs\\dlstudy\\lib\\site-packages\\ipykernel\\zmqshell.py\", line 536, in run_cell\n    return super(ZMQInteractiveShell, self).run_cell(*args, **kwargs)\n  File \"C:\\Users\\KyochulJang\\anaconda3\\envs\\dlstudy\\lib\\site-packages\\IPython\\core\\interactiveshell.py\", line 2867, in run_cell\n    raw_cell, store_history, silent, shell_futures)\n  File \"C:\\Users\\KyochulJang\\anaconda3\\envs\\dlstudy\\lib\\site-packages\\IPython\\core\\interactiveshell.py\", line 2895, in _run_cell\n    return runner(coro)\n  File \"C:\\Users\\KyochulJang\\anaconda3\\envs\\dlstudy\\lib\\site-packages\\IPython\\core\\async_helpers.py\", line 68, in _pseudo_sync_runner\n    coro.send(None)\n  File \"C:\\Users\\KyochulJang\\anaconda3\\envs\\dlstudy\\lib\\site-packages\\IPython\\core\\interactiveshell.py\", line 3072, in run_cell_async\n    interactivity=interactivity, compiler=compiler, result=result)\n  File \"C:\\Users\\KyochulJang\\anaconda3\\envs\\dlstudy\\lib\\site-packages\\IPython\\core\\interactiveshell.py\", line 3263, in run_ast_nodes\n    if (await self.run_code(code, result,  async_=asy)):\n  File \"C:\\Users\\KyochulJang\\anaconda3\\envs\\dlstudy\\lib\\site-packages\\IPython\\core\\interactiveshell.py\", line 3343, in run_code\n    exec(code_obj, self.user_global_ns, self.user_ns)\n  File \"<ipython-input-132-bbad3f105c8f>\", line 2, in <module>\n    X = tf.placeholder(tf.float32, [len(x_train), 28 * 28])\n  File \"C:\\Users\\KyochulJang\\anaconda3\\envs\\dlstudy\\lib\\site-packages\\tensorflow_core\\python\\ops\\array_ops.py\", line 2619, in placeholder\n    return gen_array_ops.placeholder(dtype=dtype, shape=shape, name=name)\n  File \"C:\\Users\\KyochulJang\\anaconda3\\envs\\dlstudy\\lib\\site-packages\\tensorflow_core\\python\\ops\\gen_array_ops.py\", line 8038, in placeholder\n    \"Placeholder\", dtype=dtype, shape=shape, name=name)\n  File \"C:\\Users\\KyochulJang\\anaconda3\\envs\\dlstudy\\lib\\site-packages\\tensorflow_core\\python\\framework\\op_def_library.py\", line 794, in _apply_op_helper\n    op_def=op_def)\n  File \"C:\\Users\\KyochulJang\\anaconda3\\envs\\dlstudy\\lib\\site-packages\\tensorflow_core\\python\\util\\deprecation.py\", line 507, in new_func\n    return func(*args, **kwargs)\n  File \"C:\\Users\\KyochulJang\\anaconda3\\envs\\dlstudy\\lib\\site-packages\\tensorflow_core\\python\\framework\\ops.py\", line 3371, in create_op\n    attrs, op_def, compute_device)\n  File \"C:\\Users\\KyochulJang\\anaconda3\\envs\\dlstudy\\lib\\site-packages\\tensorflow_core\\python\\framework\\ops.py\", line 3440, in _create_op_internal\n    op_def=op_def)\n  File \"C:\\Users\\KyochulJang\\anaconda3\\envs\\dlstudy\\lib\\site-packages\\tensorflow_core\\python\\framework\\ops.py\", line 1762, in __init__\n    self._traceback = tf_stack.extract_stack()\n"
     ]
    }
   ],
   "source": [
    "with tf.Session() as sesh:\n",
    "    sesh.run(tf.global_variables_initializer())\n",
    "    \n",
    "    for epoch in range(epochs):\n",
    "        for i in range(batch_number):\n",
    "            offset = i * epoch\n",
    "            x = x_train[offset: offset + batch_size]\n",
    "            y = y_train[offset: offset + batch_size]\n",
    "            sesh.run(optimizer, feed_dict={X: x, Y:y})\n",
    "            c = sesh.run(cost, feed_dict={X:x, Y:y})\n",
    "        \n",
    "        if not epoch % 2:\n",
    "            print(f'epoch:{epoch:2d} cost={c:.4f}')\n",
    "            \n",
    "    correct_pred = tf.equal(tf.argmax(pred, 1), tf.argmax(Y, 1))\n",
    "    accuracy = tf.reduce_mean(tf.cast(correct_pred, tf.float32))\n",
    "    acc = accuracy.eval({X: x_test, Y: y_test})\n",
    "    print(f'Accuracy: {acc * 100:.2f}%')"
   ]
  },
  {
   "cell_type": "code",
   "execution_count": null,
   "id": "6dddbe31-a5f3-4b5a-9bd4-51bbad1cb6ae",
   "metadata": {},
   "outputs": [],
   "source": []
  },
  {
   "cell_type": "code",
   "execution_count": null,
   "id": "177beeb2-8005-420c-b8d3-1b3197ee77a5",
   "metadata": {},
   "outputs": [],
   "source": []
  }
 ],
 "metadata": {
  "kernelspec": {
   "display_name": "Python 3",
   "language": "python",
   "name": "python3"
  },
  "language_info": {
   "codemirror_mode": {
    "name": "ipython",
    "version": 3
   },
   "file_extension": ".py",
   "mimetype": "text/x-python",
   "name": "python",
   "nbconvert_exporter": "python",
   "pygments_lexer": "ipython3",
   "version": "3.6.13"
  }
 },
 "nbformat": 4,
 "nbformat_minor": 5
}
