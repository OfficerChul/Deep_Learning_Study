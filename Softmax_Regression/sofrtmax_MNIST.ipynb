{
 "cells": [
  {
   "cell_type": "raw",
   "id": "f7b4060f-915c-4911-b45d-1a87acce6f96",
   "metadata": {},
   "source": [
    "\"\"\"\n",
    "* FILENAME : softmax_MNIST.py\n",
    "*\n",
    "* DESCRIPTION : softmax regressing using MNIST dataset and tensorflow v2.9.1\n",
    "*\n",
    "* AUTHOR : Kyochul Jang\n",
    "* EMAIL: jang128@purdue.edu\n",
    "* START DATE : 4 July 2022\n",
    "\"\"\""
   ]
  },
  {
   "cell_type": "markdown",
   "id": "4ff70c49-9df7-4db9-bf0e-b191e0c4dcef",
   "metadata": {},
   "source": [
    "# MNIST Classifier Model with Multiple Logistic Regression"
   ]
  },
  {
   "cell_type": "markdown",
   "id": "71a1815f-a4d5-4cfd-890a-9ae1c2ee1dbd",
   "metadata": {},
   "source": [
    "## Import Libraries"
   ]
  },
  {
   "cell_type": "code",
   "execution_count": 4,
   "id": "4c2647b6-6635-46ed-90c6-6bdd57e82d56",
   "metadata": {},
   "outputs": [],
   "source": [
    "import numpy as np\n",
    "import tensorflow as tf\n",
    "import matplotlib.pyplot as plt\n",
    "from tensorflow.keras.datasets import mnist"
   ]
  },
  {
   "cell_type": "markdown",
   "id": "5fcc84a3-cffa-41dc-83ad-f856cad32bba",
   "metadata": {},
   "source": [
    "## Define Functions"
   ]
  },
  {
   "cell_type": "code",
   "execution_count": 5,
   "id": "50fddbd9-aaeb-4277-9b53-c6dbdd986178",
   "metadata": {},
   "outputs": [],
   "source": [
    "#%% One-hot Encoding for lables\n",
    "def one_hot_encoding(labels, class_num):\n",
    "    data_num = len(labels[1]) # 60000, 10000\n",
    "    zeroes = np.zeros((data_num, 10))\n",
    "    \n",
    "    for idx in range(data_num):\n",
    "        zeroes[idx][labels[1][idx]] = 1\n",
    "        \n",
    "    return zeroes"
   ]
  },
  {
   "cell_type": "markdown",
   "id": "7375b7cf-bb58-48b5-8ba9-4f634d198daf",
   "metadata": {},
   "source": [
    "## Initialize Variables"
   ]
  },
  {
   "cell_type": "code",
   "execution_count": 6,
   "id": "cd78f6d6-b63f-439a-bef9-d40322a5ef01",
   "metadata": {},
   "outputs": [],
   "source": [
    "# Hyperparameters\n",
    "\n",
    "# Load MNIST dataset from implementing Keras API\n",
    "(x_train, y_train), (x_test, y_test) = mnist.load_data() # 60000 training set, 10000 testing set"
   ]
  },
  {
   "cell_type": "markdown",
   "id": "495c98e1-5814-4f59-932b-90aa6254b975",
   "metadata": {},
   "source": [
    "## Preprocess Data"
   ]
  },
  {
   "cell_type": "code",
   "execution_count": 7,
   "id": "722a22f8-355f-44cb-b79e-ac6f1e4799c5",
   "metadata": {},
   "outputs": [],
   "source": [
    "# Reshape train data and test data\n",
    "x_train = x_train.reshape((60000, 28*28)) # (60000, 784)\n",
    "x_test = x_test.reshape((10000, 28*28)) # (10000, 784)"
   ]
  },
  {
   "cell_type": "code",
   "execution_count": null,
   "id": "4758ccdd-1ee0-4254-b043-4b21664d4d3f",
   "metadata": {},
   "outputs": [],
   "source": [
    "# Make Y values using One-Hot encoding\n",
    "y_train = one_hot_encoding("
   ]
  }
 ],
 "metadata": {
  "kernelspec": {
   "display_name": "Python 3",
   "language": "python",
   "name": "python3"
  },
  "language_info": {
   "codemirror_mode": {
    "name": "ipython",
    "version": 3
   },
   "file_extension": ".py",
   "mimetype": "text/x-python",
   "name": "python",
   "nbconvert_exporter": "python",
   "pygments_lexer": "ipython3",
   "version": "3.6.13"
  }
 },
 "nbformat": 4,
 "nbformat_minor": 5
}
