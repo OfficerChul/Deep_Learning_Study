{
 "cells": [
  {
   "cell_type": "raw",
   "id": "f7b4060f-915c-4911-b45d-1a87acce6f96",
   "metadata": {},
   "source": [
    "\"\"\"\n",
    "* FILENAME : softmax_MNIST.ipynb\n",
    "*\n",
    "* DESCRIPTION : softmax regressing using MNIST dataset\n",
    "*\n",
    "* AUTHOR : Kyochul Jang\n",
    "* EMAIL: jang128@purdue.edu\n",
    "* START DATE : 4 July 2022\n",
    "\"\"\""
   ]
  },
  {
   "cell_type": "markdown",
   "id": "4ff70c49-9df7-4db9-bf0e-b191e0c4dcef",
   "metadata": {},
   "source": [
    "# MNIST Classifier Model with Multiple Logistic Regression"
   ]
  },
  {
   "cell_type": "markdown",
   "id": "71a1815f-a4d5-4cfd-890a-9ae1c2ee1dbd",
   "metadata": {},
   "source": [
    "## Import Libraries"
   ]
  },
  {
   "cell_type": "code",
   "execution_count": 127,
   "id": "4c2647b6-6635-46ed-90c6-6bdd57e82d56",
   "metadata": {},
   "outputs": [],
   "source": [
    "import numpy as np\n",
    "import tensorflow as tf\n",
    "import matplotlib.pyplot as plt\n",
    "from tensorflow.keras.datasets import mnist"
   ]
  },
  {
   "cell_type": "markdown",
   "id": "5fcc84a3-cffa-41dc-83ad-f856cad32bba",
   "metadata": {},
   "source": [
    "## Define Functions"
   ]
  },
  {
   "cell_type": "code",
   "execution_count": 128,
   "id": "50fddbd9-aaeb-4277-9b53-c6dbdd986178",
   "metadata": {},
   "outputs": [],
   "source": [
    "# One-hot Encoding for lables\n",
    "def one_hot_encoding(labels, class_num):\n",
    "    data_num = len(labels) # 60000, 10000\n",
    "    result = np.zeros((data_num, 10))\n",
    "    \n",
    "    for idx in range(data_num):\n",
    "        result[idx][labels[idx]] = 1\n",
    "        \n",
    "    return result\n",
    "\n",
    "def Z(X, W, B):\n",
    "    return tf.add(tf.matmul(X, W), B)\n",
    "\n",
    "def softmax(Z):\n",
    "    return tf.nn.softmax(Z)\n",
    "\n",
    "def cross_entropy(Y, softmax):\n",
    "    return -tf.reduce_sum(Y * tf.log(softmax), axis=1)"
   ]
  },
  {
   "cell_type": "markdown",
   "id": "7375b7cf-bb58-48b5-8ba9-4f634d198daf",
   "metadata": {},
   "source": [
    "## Initialize Variables"
   ]
  },
  {
   "cell_type": "code",
   "execution_count": 129,
   "id": "cd78f6d6-b63f-439a-bef9-d40322a5ef01",
   "metadata": {},
   "outputs": [
    {
     "name": "stdout",
     "output_type": "stream",
     "text": [
      "x_train: (60000, 28, 28)\n",
      "y_train: (60000,)\n",
      "x_test: (10000, 28, 28)\n",
      "y_test: (10000,)\n"
     ]
    }
   ],
   "source": [
    "# Load MNIST dataset from implementing Keras API\n",
    "(x_train, y_train), (x_test, y_test) = mnist.load_data() # 60000 training set, 10000 testing set\n",
    "\n",
    "print(f'x_train: {x_train.shape}')\n",
    "print(f'y_train: {y_train.shape}')\n",
    "print(f'x_test: {x_test.shape}')\n",
    "print(f'y_test: {y_test.shape}')"
   ]
  },
  {
   "cell_type": "markdown",
   "id": "495c98e1-5814-4f59-932b-90aa6254b975",
   "metadata": {},
   "source": [
    "## Preprocess Data"
   ]
  },
  {
   "cell_type": "code",
   "execution_count": 142,
   "id": "722a22f8-355f-44cb-b79e-ac6f1e4799c5",
   "metadata": {},
   "outputs": [],
   "source": [
    "# Reshape train data and test data / Divide by 255 to normalize (the largest value of RGB is 255).\n",
    "x_train = x_train.reshape((60000, 28*28)) / 255 # (60000, 784)\n",
    "x_test = x_test.reshape((10000, 28*28)) / 255 # (10000, 784)\n",
    "\n",
    "# Hyperparameters\n",
    "class_num = 10\n",
    "learning_rate = 0.001\n",
    "batch_size = 100\n",
    "batch_number = int(len(x_train) / batch_size)\n",
    "epochs = 50"
   ]
  },
  {
   "cell_type": "code",
   "execution_count": 131,
   "id": "4758ccdd-1ee0-4254-b043-4b21664d4d3f",
   "metadata": {},
   "outputs": [
    {
     "name": "stdout",
     "output_type": "stream",
     "text": [
      "[[0. 0. 0. 0. 0. 1. 0. 0. 0. 0.]\n",
      " [1. 0. 0. 0. 0. 0. 0. 0. 0. 0.]\n",
      " [0. 0. 0. 0. 1. 0. 0. 0. 0. 0.]\n",
      " [0. 1. 0. 0. 0. 0. 0. 0. 0. 0.]]\n"
     ]
    }
   ],
   "source": [
    "# Make Y values using One-Hot encoding\n",
    "y_train = one_hot_encoding(y_train, class_num)\n",
    "print(y_train[:4])"
   ]
  },
  {
   "cell_type": "markdown",
   "id": "e8e3fdd3-44f2-474e-8419-300e8908bad6",
   "metadata": {},
   "source": [
    "## Build Model"
   ]
  },
  {
   "cell_type": "code",
   "execution_count": 143,
   "id": "24069dfe-e4c4-4dd3-b58c-720ccd5bcfdc",
   "metadata": {},
   "outputs": [],
   "source": [
    "# Initialize tensors with proper size and data type (float32)\n",
    "X = tf.placeholder(tf.float32, [None, 28 * 28])\n",
    "Y = tf.placeholder(tf.float32, [None, class_num])\n",
    "W = tf.Variable(np.zeros((784, 10), np.float32))\n",
    "B = tf.Variable(np.zeros((len(x_train), 10),np.float32))"
   ]
  },
  {
   "cell_type": "code",
   "execution_count": 133,
   "id": "e7dde5ee-dc91-4927-9154-89bf02961df2",
   "metadata": {},
   "outputs": [],
   "source": [
    "softmax = softmax(Z(X, W, B))\n",
    "cost = cross_entropy(Y, softmax)\n",
    "optimizer = tf.train.GradientDescentOptimizer(learning_rate).minimize(cost)"
   ]
  },
  {
   "cell_type": "code",
   "execution_count": 1,
   "id": "75d58900-d244-481e-a6f9-bc87392561e1",
   "metadata": {},
   "outputs": [
    {
     "ename": "NameError",
     "evalue": "name 'tf' is not defined",
     "output_type": "error",
     "traceback": [
      "\u001b[1;31m---------------------------------------------------------------------------\u001b[0m",
      "\u001b[1;31mNameError\u001b[0m                                 Traceback (most recent call last)",
      "\u001b[1;32m~\\AppData\\Local\\Temp\\ipykernel_24428\\1563556373.py\u001b[0m in \u001b[0;36m<cell line: 1>\u001b[1;34m()\u001b[0m\n\u001b[1;32m----> 1\u001b[1;33m \u001b[1;32mwith\u001b[0m \u001b[0mtf\u001b[0m\u001b[1;33m.\u001b[0m\u001b[0mSession\u001b[0m\u001b[1;33m(\u001b[0m\u001b[1;33m)\u001b[0m \u001b[1;32mas\u001b[0m \u001b[0msesh\u001b[0m\u001b[1;33m:\u001b[0m\u001b[1;33m\u001b[0m\u001b[1;33m\u001b[0m\u001b[0m\n\u001b[0m\u001b[0;32m      2\u001b[0m     \u001b[0msesh\u001b[0m\u001b[1;33m.\u001b[0m\u001b[0mrun\u001b[0m\u001b[1;33m(\u001b[0m\u001b[0mtf\u001b[0m\u001b[1;33m.\u001b[0m\u001b[0mglobal_variables_initializer\u001b[0m\u001b[1;33m(\u001b[0m\u001b[1;33m)\u001b[0m\u001b[1;33m)\u001b[0m\u001b[1;33m\u001b[0m\u001b[1;33m\u001b[0m\u001b[0m\n\u001b[0;32m      3\u001b[0m \u001b[1;33m\u001b[0m\u001b[0m\n\u001b[0;32m      4\u001b[0m \u001b[1;33m\u001b[0m\u001b[0m\n",
      "\u001b[1;31mNameError\u001b[0m: name 'tf' is not defined"
     ]
    }
   ],
   "source": [
    "with tf.Session() as sesh:\n",
    "    sesh.run(tf.global_variables_initializer())\n",
    "    \n",
    "    "
   ]
  },
  {
   "cell_type": "code",
   "execution_count": null,
   "id": "6dddbe31-a5f3-4b5a-9bd4-51bbad1cb6ae",
   "metadata": {},
   "outputs": [],
   "source": []
  },
  {
   "cell_type": "code",
   "execution_count": null,
   "id": "177beeb2-8005-420c-b8d3-1b3197ee77a5",
   "metadata": {},
   "outputs": [],
   "source": []
  }
 ],
 "metadata": {
  "kernelspec": {
   "display_name": "Python 3 (ipykernel)",
   "language": "python",
   "name": "python3"
  },
  "language_info": {
   "codemirror_mode": {
    "name": "ipython",
    "version": 3
   },
   "file_extension": ".py",
   "mimetype": "text/x-python",
   "name": "python",
   "nbconvert_exporter": "python",
   "pygments_lexer": "ipython3",
   "version": "3.10.5"
  }
 },
 "nbformat": 4,
 "nbformat_minor": 5
}
